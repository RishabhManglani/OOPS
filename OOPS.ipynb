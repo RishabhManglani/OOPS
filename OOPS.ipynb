{
  "nbformat": 4,
  "nbformat_minor": 0,
  "metadata": {
    "colab": {
      "provenance": []
    },
    "kernelspec": {
      "name": "python3",
      "display_name": "Python 3"
    },
    "language_info": {
      "name": "python"
    }
  },
  "cells": [
    {
      "cell_type": "markdown",
      "source": [
        "**Python OOPs Questions**"
      ],
      "metadata": {
        "id": "Vlw2gAZQChz4"
      }
    },
    {
      "cell_type": "markdown",
      "source": [
        "1. What is Object-Oriented Programming (OOPS) ?\n"
      ],
      "metadata": {
        "id": "RwHXGXJrDJun"
      }
    },
    {
      "cell_type": "markdown",
      "source": [
        "    Object-Oriented Programming (OOP)  \n",
        "    is a programming paradigm that\n",
        "    structures software design around\n",
        "    objects and classes, focusing on\n",
        "    data and how to manipulate it. It's\n",
        "    a popular approach in languages  \n",
        "    like Java, Python, and C++. OOP\n",
        "    utilizes concepts like objects, classes, inheritance,    encapsulation, abstraction, and polymorphism to create reusable,\n",
        "    flexible, and maintainable code."
      ],
      "metadata": {
        "id": "4OMmuezPDOEO"
      }
    },
    {
      "cell_type": "markdown",
      "source": [
        "2. What is a class in OOP ?"
      ],
      "metadata": {
        "id": "9lkGf7vxDfxu"
      }
    },
    {
      "cell_type": "markdown",
      "source": [
        "    In Object-Oriented Programming (OOP), a class is a blueprint or template  \n",
        "    for creating objects, defining their properties (attributes) and behaviors\n",
        "    (methods). Think of it as a recipe for creating a specific type of object,\n",
        "    like a \"Dog\" class that defines what characteristics and actions all \"Dog\" objects will have."
      ],
      "metadata": {
        "id": "8TmzHZlvDm5f"
      }
    },
    {
      "cell_type": "markdown",
      "source": [
        "3. H What is an object in OOP ?"
      ],
      "metadata": {
        "id": "v13EASeYDzFP"
      }
    },
    {
      "cell_type": "markdown",
      "source": [
        "    In Object-Oriented Programming (OOP), an object is an instance of a class,\n",
        "    representing a specific entity with its own unique data and behavior.\n",
        "    Objects are the basic building blocks of OOP applications, encapsulating\n",
        "    both properties (data) and behaviors (methods)."
      ],
      "metadata": {
        "id": "pyZ6NQ5SD7QA"
      }
    },
    {
      "cell_type": "markdown",
      "source": [
        "4. What is the difference between abstraction and encapsulation ?"
      ],
      "metadata": {
        "id": "m7FRGVYYEOvJ"
      }
    },
    {
      "cell_type": "markdown",
      "source": [
        "    Abstraction focuses on simplifying complex systems by highlighting  \n",
        "    essential features and hiding unnecessary details, while encapsulation\n",
        "    involves bundling data and methods within a class and controlling access to\n",
        "    them. Abstraction is a design-level process that determines what an object\n",
        "    does, whereas encapsulation handles how it does it, protecting its internal implementation."
      ],
      "metadata": {
        "id": "6xoN3PIaETzQ"
      }
    },
    {
      "cell_type": "markdown",
      "source": [
        "5. What are dunder methods in Python ?"
      ],
      "metadata": {
        "id": "mvE9PjRyEYK4"
      }
    },
    {
      "cell_type": "markdown",
      "source": [
        "    Dunder methods, also known as magic methods or special methods, are\n",
        "    predefined methods in Python that have double underscores (dunders) at the\n",
        "    beginning and end of their names, such as __init__, __str__, __add__, and\n",
        "    __len__. They provide a way to define how objects of a class should behave\n",
        "    with built-in operations and functions in Python."
      ],
      "metadata": {
        "id": "5enCpEW-EeTn"
      }
    },
    {
      "cell_type": "markdown",
      "source": [
        "6.  Explain the concept of inheritance in OOP."
      ],
      "metadata": {
        "id": "W6_7HOBtElmm"
      }
    },
    {
      "cell_type": "markdown",
      "source": [
        "    In Object-Oriented Programming (OOP), inheritance is a mechanism where a  \n",
        "    new class, called a derived class or subclass, inherits properties and\n",
        "    behaviors from an existing class, known as the base class or superclass.\n",
        "    This promotes code reusability and allows for the creation of hierarchical relationships between classes."
      ],
      "metadata": {
        "id": "DRwVjrrzEtra"
      }
    },
    {
      "cell_type": "markdown",
      "source": [
        "7. What is polymorphism in OOP ?"
      ],
      "metadata": {
        "id": "kvXXLWi1E1PI"
      }
    },
    {
      "cell_type": "markdown",
      "source": [
        "    Polymorphism in object-oriented programming (OOP) refers to the ability of\n",
        "    an entity to have multiple forms or behaviors. This means that different\n",
        "    objects can respond to the same message or method call in their own unique\n",
        "    way, enhancing code flexibility and reusability."
      ],
      "metadata": {
        "id": "RFDAWvpdE32o"
      }
    },
    {
      "cell_type": "markdown",
      "source": [
        "8. How is encapsulation achieved in Python ?"
      ],
      "metadata": {
        "id": "WGwz-F8_E9RI"
      }
    },
    {
      "cell_type": "markdown",
      "source": [
        "    Encapsulation in Python is achieved through access modifiers, which control\n",
        "    the visibility and accessibility of class members (attributes and methods).\n",
        "    Python primarily uses two types of access modifiers:\n",
        "\n",
        "    Public:\n",
        "    Public members are accessible from anywhere, both inside and outside the\n",
        "    class. By default, all members in a Python class are public unless specified otherwise.\n",
        "\n",
        "    Private:\n",
        "    Private members are only accessible within the class where they are  \n",
        "    defined. To declare a member as private, it is prefixed with a double\n",
        "    underscore (__). Python uses name mangling to make private members harder  \n",
        "    to access directly from outside the class, but it's still possible if needed.\n",
        "\n",
        "    Protected:\n",
        "    Protected members are accessible within the class and its subclasses. They\n",
        "    are denoted by a single underscore prefix (_). However, unlike some other\n",
        "    languages, Python does not strictly enforce protected access, and it mainly serves as a convention to indicate intended usage."
      ],
      "metadata": {
        "id": "QAsQ5g5KE_7o"
      }
    },
    {
      "cell_type": "markdown",
      "source": [
        "9. What is a constructor in Python ?"
      ],
      "metadata": {
        "id": "i77oD4UgFWOJ"
      }
    },
    {
      "cell_type": "markdown",
      "source": [
        "    In Python, a constructor is a special method used to initialize the\n",
        "    attributes of an object when it is created. It is defined with the name\n",
        "    __init__. The constructor is automatically called when an object of the\n",
        "    class is instantiated. It sets up the initial state of the object by\n",
        "    assigning values to its attributes."
      ],
      "metadata": {
        "id": "zw37RoV6Ff3w"
      }
    },
    {
      "cell_type": "code",
      "execution_count": null,
      "metadata": {
        "colab": {
          "base_uri": "https://localhost:8080/"
        },
        "id": "1xvlpBZGCYot",
        "outputId": "c6c96bfe-91ca-4a2d-cb6a-a73a1684bd34"
      },
      "outputs": [
        {
          "output_type": "stream",
          "name": "stdout",
          "text": [
            "Buddy\n",
            "Golden Retriever\n"
          ]
        }
      ],
      "source": [
        "class Dog:\n",
        "    def __init__(self, name, breed):\n",
        "        self.name = name\n",
        "        self.breed = breed\n",
        "\n",
        "# Creating an object of the Dog class\n",
        "my_dog = Dog(\"Buddy\", \"Golden Retriever\")\n",
        "\n",
        "print(my_dog.name)  # Output: Buddy\n",
        "print(my_dog.breed) # Output: Golden Retriever"
      ]
    },
    {
      "cell_type": "markdown",
      "source": [
        "10. What are class and static methods in Python ?"
      ],
      "metadata": {
        "id": "jXpG9FXvFmB7"
      }
    },
    {
      "cell_type": "markdown",
      "source": [
        "    In Python, class and static methods are special types of methods bound to a\n",
        "    class rather than an instance of the class. They provide different\n",
        "    functionalities and are used in different scenarios.\n",
        "\n",
        "    Class methods:\n",
        "    They take the class itself as the first argument, conventionally named cls.\n",
        "    They can access and modify class-level attributes.\n",
        "    They are defined using the @classmethod decorator.\n",
        "    They are called using the class name or an instance of the class.\n",
        "    Use cases include:\n",
        "    Creating factory methods that return class instances with specific configurations.\n",
        "    Modifying class-level attributes.\n",
        "    Providing alternative constructors.\n",
        "\n",
        "    Static methods:\n",
        "    They do not take any special first argument.\n",
        "    They cannot access or modify class-level or instance attributes directly.\n",
        "    They are defined using the @staticmethod decorator.\n",
        "    They are called using the class name or an instance of the class.\n",
        "    Use cases include:\n",
        "    Implementing utility functions that are logically related to the class but\n",
        "    do not need to access its attributes.\n",
        "    Grouping related functions within a class namespace."
      ],
      "metadata": {
        "id": "sB1PRU_XCebK"
      }
    },
    {
      "cell_type": "markdown",
      "source": [
        "11. What is method overloading in Python ?"
      ],
      "metadata": {
        "id": "JIP2L119GKbY"
      }
    },
    {
      "cell_type": "markdown",
      "source": [
        "    Method overloading in Python refers to the ability to define multiple\n",
        "    methods with the same name within a class, but with different parameters.\n",
        "    Python does not support traditional method overloading like some other\n",
        "    languages (e.g., Java), where you can have multiple methods with the same\n",
        "    name but different signatures (number or types of arguments). However, it\n",
        "    can be achieved using techniques like default arguments or variable-length arguments."
      ],
      "metadata": {
        "id": "4jQrNP-NGOox"
      }
    },
    {
      "cell_type": "code",
      "source": [
        "class Calculator:\n",
        "    def add(self, a, b=None, c=None):\n",
        "        if b is not None and c is not None:\n",
        "            return a + b + c\n",
        "        elif b is not None:\n",
        "            return a + b\n",
        "        else:\n",
        "            return a\n",
        "\n",
        "calculator = Calculator()\n",
        "print(calculator.add(5))\n",
        "print(calculator.add(5, 10))\n",
        "print(calculator.add(5, 10, 15))"
      ],
      "metadata": {
        "colab": {
          "base_uri": "https://localhost:8080/"
        },
        "id": "SkQNd-PiGUP5",
        "outputId": "c4635f08-fa2d-4173-a4f6-a1c3738c3148"
      },
      "execution_count": null,
      "outputs": [
        {
          "output_type": "stream",
          "name": "stdout",
          "text": [
            "5\n",
            "15\n",
            "30\n"
          ]
        }
      ]
    },
    {
      "cell_type": "markdown",
      "source": [
        "12. What is method overriding in OOP ?"
      ],
      "metadata": {
        "id": "Emk-CjZ8GVs3"
      }
    },
    {
      "cell_type": "markdown",
      "source": [
        "    In Object-Oriented Programming (OOP), method overriding is a concept where  \n",
        "    a subclass provides a specific implementation for a method that is already\n",
        "    defined in its superclass. This allows a subclass to customize or extend  \n",
        "    the behavior of the inherited method without modifying the parent class.\n",
        "    Essentially, the subclass \"replaces\" the superclass's implementation with\n",
        "    its own when that method is called on an instance of the subclass."
      ],
      "metadata": {
        "id": "Im6MYV-xGgrI"
      }
    },
    {
      "cell_type": "markdown",
      "source": [
        "13. What is a property decorator in Python ?"
      ],
      "metadata": {
        "id": "Cy1ITd6JGoc5"
      }
    },
    {
      "cell_type": "markdown",
      "source": [
        "    In Python, a property decorator is a built-in feature that allows methods  \n",
        "    to be accessed like attributes. It provides a way to encapsulate the logic\n",
        "    for getting, setting, and deleting an attribute within a class, without\n",
        "    requiring the user to call getter and setter methods explicitly. The\n",
        "    @property decorator is used to define the getter method, while @attribute.\n",
        "    setter and @attribute.deleter (where \"attribute\" is the name of the\n",
        "    property) are used to define the setter and deleter methods, respectively."
      ],
      "metadata": {
        "id": "QLOues_wGuCL"
      }
    },
    {
      "cell_type": "markdown",
      "source": [
        "14. Why is polymorphism important in OOP ?"
      ],
      "metadata": {
        "id": "AIMoiPebG1Mp"
      }
    },
    {
      "cell_type": "markdown",
      "source": [
        "    Polymorphism is crucial in OOP because it allows objects of different\n",
        "    classes to be treated uniformly through a common interface, promoting code\n",
        "    reuse, flexibility, and extensibility. This is achieved through mechanisms\n",
        "    like inheritance and interfaces, enabling the creation of adaptable and\n",
        "    maintainable software systems."
      ],
      "metadata": {
        "id": "yvKlixXrG61i"
      }
    },
    {
      "cell_type": "markdown",
      "source": [
        "15. What is an abstract class in Python ?"
      ],
      "metadata": {
        "id": "Y8NPAjiqG9pw"
      }
    },
    {
      "cell_type": "markdown",
      "source": [
        "    An abstract class in Python is a class that cannot be instantiated directly\n",
        "    and serves as a blueprint for other classes. It defines a common interface\n",
        "    for a group of subclasses, ensuring that certain methods are implemented in\n",
        "    each subclass. Abstract classes are created using the abc module, which\n",
        "    provides the ABC class and the @abstractmethod decorator.\n",
        "    \n",
        "    Abstract classes can contain abstract methods, which are methods declared\n",
        "    but not implemented in the abstract class. Subclasses of the abstract class\n",
        "    must provide concrete implementations for these abstract methods. If a\n",
        "    subclass fails to implement all abstract methods from its parent abstract\n",
        "    class, it also becomes an abstract class and cannot be instantiated"
      ],
      "metadata": {
        "id": "RgHzYqxiHC-p"
      }
    },
    {
      "cell_type": "code",
      "source": [
        "from abc import ABC, abstractmethod\n",
        "\n",
        "class Shape(ABC):\n",
        "    @abstractmethod\n",
        "    def area(self):\n",
        "        pass\n",
        "\n",
        "class Circle(Shape):\n",
        "    def __init__(self, radius):\n",
        "        self.radius = radius\n",
        "\n",
        "    def area(self):\n",
        "        return 3.14 * self.radius * self.radius\n",
        "\n",
        "class Square(Shape):\n",
        "    def __init__(self, side):\n",
        "        self.side = side\n",
        "\n",
        "    def area(self):\n",
        "        return self.side * self.side"
      ],
      "metadata": {
        "id": "oLIFcE9dHH6w"
      },
      "execution_count": null,
      "outputs": []
    },
    {
      "cell_type": "markdown",
      "source": [
        "16. What are the advantages of OOP ?"
      ],
      "metadata": {
        "id": "azZlQSuLHKPA"
      }
    },
    {
      "cell_type": "markdown",
      "source": [
        "    Object-Oriented Programming (OOP) offers several advantages, including code\n",
        "    reusability, flexibility, easier maintenance, and enhanced security through\n",
        "    features like encapsulation and abstraction. It also promotes modular\n",
        "    design, making it easier to organize and troubleshoot complex software.\n",
        "\n",
        "    Here's a more detailed breakdown of the benefits:\n",
        "    1. Code Reusability:\n",
        "    Inheritance:\n",
        "    OOP allows classes to inherit properties and methods from parent classes,\n",
        "    avoiding code duplication and promoting efficiency.\n",
        "    Libraries and Modules:\n",
        "    Reusable code libraries and modules can be created and used across  \n",
        "    different projects, accelerating development.\n",
        "\n",
        "     2. Flexibility and Adaptability:\n",
        "    Polymorphism:\n",
        "    OOP's ability to define methods that can behave differently depending on  \n",
        "    the object allows for more adaptable and general code.\n",
        "    Interface Descriptions:\n",
        "    Message-passing techniques in OOP simplify the descriptions of external     systems, making them easier to understand and integrate.\n",
        "    3. Easier Maintenance and Troubleshooting:\n",
        "    Encapsulation:\n",
        "    Bundling data and methods within objects makes code more modular and easier\n",
        "    to isolate and debug.\n",
        "    Clear Structure:\n",
        "    OOP promotes a well-organized and readable code structure, making it easier\n",
        "    to maintain and update.\n",
        "    4. Enhanced Security:\n",
        "    Abstraction and Encapsulation: OOP techniques like abstraction and                                                                 \n",
        "     encapsulation help hide complex details and control access to data,\n",
        "    improving security.\n",
        "    5. Improved Collaboration:\n",
        "    Modularity: Breaking down complex systems into smaller, independent objects\n",
        "    makes it easier for developers to collaborate on different parts of a project."
      ],
      "metadata": {
        "id": "NUSelHdGHPmS"
      }
    },
    {
      "cell_type": "markdown",
      "source": [
        "17. What is the difference between a class variable and an instance variable ?"
      ],
      "metadata": {
        "id": "GWkE_23XH-bB"
      }
    },
    {
      "cell_type": "markdown",
      "source": [
        "    A class variable (also known as a static variable) is shared by all\n",
        "    instances (objects) of a class. It exists only once and is accessible\n",
        "    through the class name. An instance variable, on the other hand, is unique\n",
        "    to each instance of the class. Each object has its own independent copy of\n",
        "    an instance variable.\n",
        "    Here's a more detailed breakdown:\n",
        "    Class Variables:\n",
        "    Shared: All instances of the class share one copy of the class variable.\n",
        "    Access: Accessed using the class name (e.g., ClassName.variableName) or\n",
        "    through an instance of the class.\n",
        "    Use Cases: Often used for constants, shared data, or counters across all\n",
        "    instances.\n",
        "    Example: A class variable might track the total number of objects created for a class.\n",
        "    Instance Variables:\n",
        "    Unique: Each instance (object) of the class has its own copy of the instance variable.\n",
        "    Access: Accessed using an object reference (e.g., objectName.variableName).\n",
        "    Use Cases: Used to store properties specific to each individual object.\n",
        "    Example: In a Person class, each instance might have a unique name, age, or address instance variable."
      ],
      "metadata": {
        "id": "yKLaIr_EIGtq"
      }
    },
    {
      "cell_type": "markdown",
      "source": [
        "18. What is multiple inheritance in Python ?"
      ],
      "metadata": {
        "id": "H482C7zHIWEu"
      }
    },
    {
      "cell_type": "markdown",
      "source": [
        "    Multiple inheritance in Python is a feature that allows a class to inherit\n",
        "    attributes and methods from more than one parent class. This means a class\n",
        "    can inherit and combine functionalities from multiple independent classes,\n",
        "    enabling code reuse and more flexible class design. When a class inherits\n",
        "    from multiple parent classes, it gains access to all the attributes and\n",
        "    methods of those parent classes."
      ],
      "metadata": {
        "id": "9fSbSXvQIzNb"
      }
    },
    {
      "cell_type": "code",
      "source": [
        "class Parent1:\n",
        "    def method1(self):\n",
        "        print(\"Method 1 from Parent1\")\n",
        "\n",
        "class Parent2:\n",
        "    def method2(self):\n",
        "        print(\"Method 2 from Parent2\")\n",
        "\n",
        "class Child(Parent1, Parent2):\n",
        "    def method3(self):\n",
        "        print(\"Method 3 from Child\")\n",
        "\n",
        "child = Child()\n",
        "child.method1()  # Output: Method 1 from Parent1\n",
        "child.method2()  # Output: Method 2 from Parent2\n",
        "child.method3()  # Output: Method 3 from Child"
      ],
      "metadata": {
        "colab": {
          "base_uri": "https://localhost:8080/"
        },
        "id": "k44uR0pDIMAz",
        "outputId": "7e13b516-c8d7-495b-fc55-32b960420adb"
      },
      "execution_count": null,
      "outputs": [
        {
          "output_type": "stream",
          "name": "stdout",
          "text": [
            "Method 1 from Parent1\n",
            "Method 2 from Parent2\n",
            "Method 3 from Child\n"
          ]
        }
      ]
    },
    {
      "cell_type": "markdown",
      "source": [
        "19. Explain the purpose of ‘’__str__’ and ‘__repr__’ ‘ methods in Python."
      ],
      "metadata": {
        "id": "BzXJqqE5I30L"
      }
    },
    {
      "cell_type": "markdown",
      "source": [
        "    The __str__ and __repr__ methods in Python are special methods used to\n",
        "    represent objects as strings. They define how an object should be displayed\n",
        "    when converted to a string or when inspected in the interpreter.\n",
        "    __str__(self): This method is used to return a human-readable or informal\n",
        "    string representation of an object. It is called by the built-in str()\n",
        "    function and implicitly when using print() on an object. The purpose of\n",
        "    __str__ is to provide a user-friendly output that is easy to understand.\n",
        "    \n",
        "    __repr__(self): This method is used to return a more technical or\n",
        "    unambiguous string representation of an object. It is called by the  built-in repr() function and is often used for debugging and logging purposes. The purpose of __repr__ is to provide a string representation that, if possible, can be used to recreate the object. If a __str__ method is not defined, Python will fall back on using the __repr__ method for string representation."
      ],
      "metadata": {
        "id": "xydAGsmuJA1q"
      }
    },
    {
      "cell_type": "markdown",
      "source": [
        "20.  What is the significance of the ‘super()’ function in Python ?"
      ],
      "metadata": {
        "id": "c43xxQdEwD0-"
      }
    },
    {
      "cell_type": "markdown",
      "source": [
        "    The super() function in Python is used to call methods from a parent class\n",
        "    within a child class. It provides a way to access and utilize inherited\n",
        "    functionality, promoting code reuse and maintainability. Its significance\n",
        "    lies in several key aspects:\n",
        "    Avoiding Explicit Parent Class Name:\n",
        "    super() eliminates the need to explicitly refer to the parent class name\n",
        "    when calling its methods, making the code more adaptable to changes in the\n",
        "    inheritance hierarchy.\n",
        "    Handling Multiple Inheritance:\n",
        "    In scenarios involving multiple inheritance, super() ensures that methods    are called in the correct order, following the method resolution\n",
        "    order    (MRO), which is crucial for avoiding conflicts and ensuring proper\n",
        "    execution.\n",
        "    Extending Functionality:\n",
        "    super() allows child classes to extend or modify the behavior of parent\n",
        "    class methods without completely overriding them. This enables  \n",
        "    customization while preserving the core functionality of the parent class.\n",
        "    Initialization of Parent Class:\n",
        "    It is commonly used within the __init__ method of a child class to\n",
        "    initialize the attributes of the parent class, ensuring that the object is  properly set up before any child-specific operations are performed.\n",
        "    Dynamic and Forward Compatibility:\n",
        "    Using super() introduces a level of indirection, making the code more\n",
        "    adaptable to future changes in the inheritance structure. If the parent\n",
        "    classes change, the child class code using super() may not need modification."
      ],
      "metadata": {
        "id": "JPCTDF2iwwdU"
      }
    },
    {
      "cell_type": "code",
      "source": [
        "class Parent:\n",
        "    def __init__(self, name):\n",
        "        self.name = name\n",
        "\n",
        "    def display(self):\n",
        "        print(f\"Name: {self.name}\")\n",
        "\n",
        "class Child(Parent):\n",
        "    def __init__(self, name, age):\n",
        "        super().__init__(name) # Initialize parent class attributes\n",
        "        self.age = age\n",
        "\n",
        "    def display(self):\n",
        "        super().display() # Call parent class method\n",
        "        print(f\"Age: {self.age}\")\n",
        "\n",
        "child = Child(\"Alice\", 10)\n",
        "child.display()\n"
      ],
      "metadata": {
        "colab": {
          "base_uri": "https://localhost:8080/"
        },
        "id": "m2Grq3STI3HD",
        "outputId": "9944e7e1-f61d-4345-882e-be04db51f1fb"
      },
      "execution_count": null,
      "outputs": [
        {
          "output_type": "stream",
          "name": "stdout",
          "text": [
            "Name: Alice\n",
            "Age: 10\n"
          ]
        }
      ]
    },
    {
      "cell_type": "markdown",
      "source": [
        "21. What is the significance of the __del__ method in Python ?"
      ],
      "metadata": {
        "id": "gqLaLBtxxlz9"
      }
    },
    {
      "cell_type": "markdown",
      "source": [
        "    The __del__ method, also known as a destructor, in Python is called when an\n",
        "    object is about to be destroyed. It provides an opportunity to perform\n",
        "    cleanup actions, such as releasing external resources like file descriptors\n",
        "    or network connections, before the object is deallocated from memory.\n",
        "    However, relying on __del__ for critical resource management is generally\n",
        "    discouraged due to the unpredictable timing of garbage collection in Python."
      ],
      "metadata": {
        "id": "GaI1yT8xysid"
      }
    },
    {
      "cell_type": "code",
      "source": [
        "class MyClass:\n",
        "    def __init__(self, name):\n",
        "        self.name = name\n",
        "        print(f\"Object {self.name} created.\")\n",
        "\n",
        "    def __del__(self):\n",
        "        print(f\"Object {self.name} destroyed.\")\n",
        "\n",
        "# Creating instances\n",
        "obj1 = MyClass(\"Object 1\")\n",
        "obj2 = MyClass(\"Object 2\")\n",
        "\n",
        "# Deleting instances explicitly\n",
        "del obj1\n",
        "del obj2\n",
        "\n"
      ],
      "metadata": {
        "colab": {
          "base_uri": "https://localhost:8080/"
        },
        "id": "3IddEIDaxje_",
        "outputId": "9414c9f6-c5cf-4d84-f3fe-6f1b6c474ee8"
      },
      "execution_count": null,
      "outputs": [
        {
          "output_type": "stream",
          "name": "stdout",
          "text": [
            "Object Object 1 created.\n",
            "Object Object 2 created.\n",
            "Object Object 1 destroyed.\n",
            "Object Object 2 destroyed.\n"
          ]
        }
      ]
    },
    {
      "cell_type": "markdown",
      "source": [
        "22.  What is the difference between @staticmethod and @classmethod in Python ?"
      ],
      "metadata": {
        "id": "U2svHH090Btj"
      }
    },
    {
      "cell_type": "markdown",
      "source": [
        "    The main difference between @staticmethod and @classmethod in Python lies  \n",
        "    in their interaction with the class and its instances:\n",
        "    @staticmethod:\n",
        "    This decorator defines a method that doesn't receive any implicit arguments\n",
        "    (neither the instance self nor the class cls). It is essentially a regular\n",
        "    function within the class's namespace. It cannot access or modify the class\n",
        "    or instance state. It's used for utility functions logically related to the\n",
        "    class but don't require access to its internals.\n",
        "    @classmethod:\n",
        "    This decorator defines a method that receives the class itself as the first argument (cls). It can access and modify class-level attributes and      \n",
        "    methods. It's often used for factory methods (alternative constructors) or\n",
        "    operations involving the class as a whole."
      ],
      "metadata": {
        "id": "hhm7I2J80YNh"
      }
    },
    {
      "cell_type": "markdown",
      "source": [
        "23. How does polymorphism work in Python with inheritance ?"
      ],
      "metadata": {
        "id": "QuoPQTaZ5831"
      }
    },
    {
      "cell_type": "markdown",
      "source": [
        "    Polymorphism, meaning \"many forms,\" allows objects of different classes to\n",
        "    respond to the same method call in their own specific ways. When combined\n",
        "    with inheritance in Python, polymorphism enables a child class to redefine\n",
        "    methods inherited from its parent class, a concept known as method\n",
        "    overriding. This allows for specialized behavior in subclasses while\n",
        "    maintaining a common interface."
      ],
      "metadata": {
        "id": "125G07oL8INn"
      }
    },
    {
      "cell_type": "code",
      "source": [
        "class Animal:\n",
        "    def __init__(self, name):\n",
        "        self.name = name\n",
        "\n",
        "    def speak(self):\n",
        "        return \"Generic animal sound\"\n",
        "\n",
        "class Dog(Animal):\n",
        "    def speak(self):\n",
        "        return \"Woof!\"\n",
        "\n",
        "class Cat(Animal):\n",
        "    def speak(self):\n",
        "        return \"Meow!\"\n",
        "\n",
        "def animal_sound(animal):\n",
        "    return animal.speak()\n",
        "\n",
        "dog = Dog(\"Buddy\")\n",
        "cat = Cat(\"Whiskers\")\n",
        "\n",
        "print(animal_sound(dog)) # Output: Woof!\n",
        "print(animal_sound(cat)) # Output: Meow!"
      ],
      "metadata": {
        "colab": {
          "base_uri": "https://localhost:8080/"
        },
        "id": "Fkc8uk9my2D2",
        "outputId": "ed58c913-c7e5-44fa-d290-a6a75bfd3313"
      },
      "execution_count": null,
      "outputs": [
        {
          "output_type": "stream",
          "name": "stdout",
          "text": [
            "Woof!\n",
            "Meow!\n"
          ]
        }
      ]
    },
    {
      "cell_type": "markdown",
      "source": [
        "24. What is method chaining in Python OOP ?"
      ],
      "metadata": {
        "id": "yGNdSev78Rq9"
      }
    },
    {
      "cell_type": "markdown",
      "source": [
        "    Method chaining in Python is a programming technique that allows multiple\n",
        "    methods to be called sequentially on an object in a single line of code.\n",
        "    This is achieved by having each method in the chain return the object  \n",
        "    itself (or a modified version of it), allowing the next method in the chain\n",
        "    to be called immediately using dot notation. This approach can make code\n",
        "    more concise and readable, especially when performing a series of  \n",
        "    operations on the same object.\n",
        "    For method chaining to work, each method in the chain must return self (the\n",
        "    instance of the object). This allows the subsequent method to be called on\n",
        "    the returned object."
      ],
      "metadata": {
        "id": "esbLgRwA8Yrs"
      }
    },
    {
      "cell_type": "markdown",
      "source": [
        "25. What is the purpose of the __call__ method in Python ?"
      ],
      "metadata": {
        "id": "sPWJ8sCy8eIM"
      }
    },
    {
      "cell_type": "markdown",
      "source": [
        "    The __call__ method in Python enables instances of a class to be called  \n",
        "    like regular functions. When a class defines the __call__ method, its\n",
        "    instances become \"callable.\" This means you can use parentheses () to\n",
        "    execute the code defined within the __call__ method, similar to how you  \n",
        "    call a function.\n",
        "\n",
        "    The primary purpose of __call__ is to allow objects to behave like\n",
        "    functions, which is useful in various scenarios, such as:\n",
        "    Creating function-like objects:\n",
        "    When you need an object to encapsulate state or have more complex behavior  than a simple function, __call__ allows it to be invoked directly.\n",
        "    Implementing decorators:\n",
        "    Decorators in Python can be implemented using classes with the __call__\n",
        "    method.\n",
        "    Defining custom callable objects:\n",
        "    Libraries or frameworks might require objects to be callable, and __call__\n",
        "    provides a way to achieve this.\n",
        "    Stateful functions:\n",
        "    When you need to retain state between calls, using a class with __call__  \n",
        "    can be more appropriate than a regular function."
      ],
      "metadata": {
        "id": "BogA1HlG8q1c"
      }
    },
    {
      "cell_type": "code",
      "source": [
        "class Example:\n",
        "    def __init__(self, name):\n",
        "        self.name = name\n",
        "\n",
        "    def __call__(self, greeting):\n",
        "        return f\"{greeting}, {self.name}!\"\n",
        "\n",
        "obj = Example(\"Alice\")\n",
        "message = obj(\"Hello\") # Calling the instance as a function\n",
        "print(message) # Output: Hello, Alice!\n"
      ],
      "metadata": {
        "colab": {
          "base_uri": "https://localhost:8080/"
        },
        "id": "CL9vOfx78Q_N",
        "outputId": "c6a99e00-fa7c-4c69-b2e7-32ac72dd2d0c"
      },
      "execution_count": null,
      "outputs": [
        {
          "output_type": "stream",
          "name": "stdout",
          "text": [
            "Hello, Alice!\n"
          ]
        }
      ]
    },
    {
      "cell_type": "markdown",
      "source": [
        "**Practical Questions**"
      ],
      "metadata": {
        "id": "8a45W0wO89Im"
      }
    },
    {
      "cell_type": "markdown",
      "source": [
        "1. Create a parent class Animal with a method speak() that prints a generic message. Create a child class Dog\n",
        "\n",
        "that overrides the speak() method to print \"Bark!\"...."
      ],
      "metadata": {
        "id": "LXlSBgKx9AOe"
      }
    },
    {
      "cell_type": "code",
      "source": [
        "class Animal:\n",
        "    \"\"\"Parent class representing a generic animal.\"\"\"\n",
        "\n",
        "    def speak(self):\n",
        "        \"\"\"Prints a generic animal sound.\"\"\"\n",
        "        print(\"Some generic animal sound.\")\n",
        "\n",
        "class Dog(Animal):\n",
        "    \"\"\"Child class representing a dog.\"\"\"\n",
        "\n",
        "    def speak(self):\n",
        "        \"\"\"Overrides the speak method to print 'Bark!'.\"\"\"\n",
        "        print(\"Bark!\")\n",
        "\n",
        "# Example usage:\n",
        "animal = Animal()\n",
        "dog = Dog()\n",
        "\n",
        "animal.speak()  # Output: Some generic animal sound.\n",
        "dog.speak()     # Output: Bark!"
      ],
      "metadata": {
        "colab": {
          "base_uri": "https://localhost:8080/"
        },
        "id": "Twpx9tJz88Op",
        "outputId": "f94758b4-1012-4bb7-e391-da0ea84cc1ec"
      },
      "execution_count": null,
      "outputs": [
        {
          "output_type": "stream",
          "name": "stdout",
          "text": [
            "Some generic animal sound.\n",
            "Bark!\n"
          ]
        }
      ]
    },
    {
      "cell_type": "markdown",
      "source": [
        "2.  Write a program to create an abstract class Shape with a method area(). Derive classes Circle and Rectangle\n",
        "from it and implement the area() method in both."
      ],
      "metadata": {
        "id": "cU-hpXiAD424"
      }
    },
    {
      "cell_type": "code",
      "source": [
        "from abc import ABC, abstractmethod\n",
        "import math\n",
        "\n",
        "class Shape(ABC):\n",
        "    \"\"\"\n",
        "    An abstract base class for shapes.\n",
        "    \"\"\"\n",
        "    @abstractmethod\n",
        "    def area(self):\n",
        "        \"\"\"\n",
        "        Abstract method to calculate the area of the shape.\n",
        "        Subclasses must implement this method.\n",
        "        \"\"\"\n",
        "        pass\n",
        "\n",
        "class Circle(Shape):\n",
        "    \"\"\"\n",
        "    A class representing a circle, derived from Shape.\n",
        "    \"\"\"\n",
        "    def __init__(self, radius):\n",
        "        \"\"\"\n",
        "        Initializes a Circle object with a given radius.\n",
        "        \"\"\"\n",
        "        self.radius = radius\n",
        "\n",
        "    def area(self):\n",
        "        \"\"\"\n",
        "        Calculates and returns the area of the circle.\n",
        "        \"\"\"\n",
        "        return math.pi * self.radius**2\n",
        "\n",
        "class Rectangle(Shape):\n",
        "    \"\"\"\n",
        "    A class representing a rectangle, derived from Shape.\n",
        "    \"\"\"\n",
        "    def __init__(self, length, width):\n",
        "        \"\"\"\n",
        "        Initializes a Rectangle object with a given length and width.\n",
        "        \"\"\"\n",
        "        self.length = length\n",
        "        self.width = width\n",
        "\n",
        "    def area(self):\n",
        "        \"\"\"\n",
        "        Calculates and returns the area of the rectangle.\n",
        "        \"\"\"\n",
        "        return self.length * self.width\n",
        "\n",
        "# Example usage:\n",
        "# Cannot create an instance of the abstract class Shape directly:\n",
        "# shape = Shape()  # This will raise a TypeError\n",
        "\n",
        "circle = Circle(5)\n",
        "rectangle = Rectangle(4, 6)\n",
        "\n",
        "print(f\"Area of the circle: {circle.area():.2f}\")\n",
        "print(f\"Area of the rectangle: {rectangle.area()}\")"
      ],
      "metadata": {
        "colab": {
          "base_uri": "https://localhost:8080/"
        },
        "id": "Y1uKJKVdD0LZ",
        "outputId": "c612ea04-efa8-4407-ade0-22c8cf399c3d"
      },
      "execution_count": null,
      "outputs": [
        {
          "output_type": "stream",
          "name": "stdout",
          "text": [
            "Area of the circle: 78.54\n",
            "Area of the rectangle: 24\n"
          ]
        }
      ]
    },
    {
      "cell_type": "markdown",
      "source": [
        "3.  Implement a multi-level inheritance scenario where a class Vehicle has an attribute type. Derive a class Car\n",
        "and further derive a class ElectricCar that adds a battery attribute."
      ],
      "metadata": {
        "id": "C1etqtuSD_ay"
      }
    },
    {
      "cell_type": "code",
      "source": [
        "class Vehicle:\n",
        "    \"\"\"\n",
        "    Base class representing a vehicle.\n",
        "    \"\"\"\n",
        "    def __init__(self, vehicle_type):\n",
        "        \"\"\"\n",
        "        Initializes a Vehicle object with a given type.\n",
        "        \"\"\"\n",
        "        self.type = vehicle_type\n",
        "\n",
        "    def display_type(self):\n",
        "        \"\"\"\n",
        "        Prints the type of the vehicle.\n",
        "        \"\"\"\n",
        "        print(f\"Vehicle Type: {self.type}\")\n",
        "\n",
        "class Car(Vehicle):\n",
        "    \"\"\"\n",
        "    Derived class representing a car, inheriting from Vehicle.\n",
        "    \"\"\"\n",
        "    def __init__(self, model):\n",
        "        \"\"\"\n",
        "        Initializes a Car object with a given model and sets the type to 'Car'.\n",
        "        \"\"\"\n",
        "        super().__init__(\"Car\")  # Call the constructor of the parent class\n",
        "        self.model = model\n",
        "\n",
        "    def display_model(self):\n",
        "        \"\"\"\n",
        "        Prints the model of the car.\n",
        "        \"\"\"\n",
        "        print(f\"Car Model: {self.model}\")\n",
        "\n",
        "class ElectricCar(Car):\n",
        "    \"\"\"\n",
        "    Derived class representing an electric car, inheriting from Car.\n",
        "    \"\"\"\n",
        "    def __init__(self, model, battery_capacity):\n",
        "        \"\"\"\n",
        "        Initializes an ElectricCar object with a model and battery capacity.\n",
        "        Calls the constructor of the Car class and adds the battery attribute.\n",
        "        \"\"\"\n",
        "        super().__init__(model)  # Call the constructor of the Car class\n",
        "        self.battery_capacity = battery_capacity\n",
        "\n",
        "    def display_battery(self):\n",
        "        \"\"\"\n",
        "        Prints the battery capacity of the electric car.\n",
        "        \"\"\"\n",
        "        print(f\"Battery Capacity: {self.battery_capacity} kWh\")\n",
        "\n",
        "# Example usage:\n",
        "vehicle = Vehicle(\"Generic Vehicle\")\n",
        "vehicle.display_type()\n",
        "print(\"-\" * 20)\n",
        "\n",
        "car = Car(\"Sedan\")\n",
        "car.display_type()\n",
        "car.display_model()\n",
        "print(\"-\" * 20)\n",
        "\n",
        "electric_car = ElectricCar(\"Model E\", 75)\n",
        "electric_car.display_type()\n",
        "electric_car.display_model()\n",
        "electric_car.display_battery()"
      ],
      "metadata": {
        "colab": {
          "base_uri": "https://localhost:8080/"
        },
        "id": "buK4f0LWD-um",
        "outputId": "398ca744-3f37-4731-c5a5-3bc2bd189a06"
      },
      "execution_count": null,
      "outputs": [
        {
          "output_type": "stream",
          "name": "stdout",
          "text": [
            "Vehicle Type: Generic Vehicle\n",
            "--------------------\n",
            "Vehicle Type: Car\n",
            "Car Model: Sedan\n",
            "--------------------\n",
            "Vehicle Type: Car\n",
            "Car Model: Model E\n",
            "Battery Capacity: 75 kWh\n"
          ]
        }
      ]
    },
    {
      "cell_type": "markdown",
      "source": [
        "4.  Demonstrate polymorphism by creating a base class Bird with a method fly(). Create two derived classes\n",
        "Sparrow and Penguin that override the fly() method.\n"
      ],
      "metadata": {
        "id": "CTLFdPcLFW8o"
      }
    },
    {
      "cell_type": "code",
      "source": [
        "class Bird:\n",
        "    \"\"\"\n",
        "    Base class representing a bird.\n",
        "    \"\"\"\n",
        "    def fly(self):\n",
        "        \"\"\"\n",
        "        Prints a generic message about flying.\n",
        "        \"\"\"\n",
        "        print(\"Generic bird flying.\")\n",
        "\n",
        "class Sparrow(Bird):\n",
        "    \"\"\"\n",
        "    Derived class representing a sparrow.\n",
        "    \"\"\"\n",
        "    def fly(self):\n",
        "        \"\"\"\n",
        "        Overrides the fly method to represent sparrow flight.\n",
        "        \"\"\"\n",
        "        print(\"Sparrow is fluttering its wings and flying fast!\")\n",
        "\n",
        "class Penguin(Bird):\n",
        "    \"\"\"\n",
        "    Derived class representing a penguin.\n",
        "    \"\"\"\n",
        "    def fly(self):\n",
        "        \"\"\"\n",
        "        Overrides the fly method to represent penguin 'flight' (swimming).\n",
        "        \"\"\"\n",
        "        print(\"Penguin is flapping its wings underwater to swim.\")\n",
        "\n",
        "# Demonstrating polymorphism\n",
        "def bird_action(bird):\n",
        "    \"\"\"\n",
        "    A function that takes a Bird object and calls its fly() method.\n",
        "    The behavior of fly() depends on the actual type of the Bird object.\n",
        "    \"\"\"\n",
        "    bird.fly()\n",
        "\n",
        "# Creating instances of the derived classes\n",
        "generic_bird = Bird()\n",
        "sparrow = Sparrow()\n",
        "penguin = Penguin()\n",
        "\n",
        "print(\"Actions:\")\n",
        "bird_action(generic_bird)  # Calls the fly() method of the Bird class\n",
        "bird_action(sparrow)      # Calls the fly() method of the Sparrow class\n",
        "bird_action(penguin)      # Calls the fly() method of the Penguin class\n",
        "\n",
        "print(\"-\" * 20)\n",
        "\n",
        "# Another way to demonstrate polymorphism using a list\n",
        "birds = [Sparrow(), Penguin()]\n",
        "for bird in birds:\n",
        "    bird.fly()"
      ],
      "metadata": {
        "colab": {
          "base_uri": "https://localhost:8080/"
        },
        "id": "-KM0YqYoFVvV",
        "outputId": "1848c6b8-5b6e-4556-c19b-bb7b139a7b5f"
      },
      "execution_count": null,
      "outputs": [
        {
          "output_type": "stream",
          "name": "stdout",
          "text": [
            "Actions:\n",
            "Generic bird flying.\n",
            "Sparrow is fluttering its wings and flying fast!\n",
            "Penguin is flapping its wings underwater to swim.\n",
            "--------------------\n",
            "Sparrow is fluttering its wings and flying fast!\n",
            "Penguin is flapping its wings underwater to swim.\n"
          ]
        }
      ]
    },
    {
      "cell_type": "markdown",
      "source": [
        " 5. Write a program to demonstrate encapsulation by creating a class BankAccount with private attributes\n",
        "balance and methods to deposit, withdraw, and check balance."
      ],
      "metadata": {
        "id": "NFqSVx6eFoIa"
      }
    },
    {
      "cell_type": "code",
      "source": [
        "class BankAccount:\n",
        "    \"\"\"\n",
        "    A class representing a bank account with private attributes and methods\n",
        "    to deposit, withdraw, and check balance.\n",
        "    \"\"\"\n",
        "    def __init__(self, account_holder, initial_balance=0):\n",
        "        \"\"\"\n",
        "        Initializes a BankAccount object.\n",
        "\n",
        "        Args:\n",
        "            account_holder (str): The name of the account holder.\n",
        "            initial_balance (float, optional): The initial balance of the account. Defaults to 0.\n",
        "        Raises:\n",
        "            TypeError: If initial_balance is not a number.\n",
        "            ValueError: If initial_balance is negative.\n",
        "        \"\"\"\n",
        "        self.account_holder = account_holder\n",
        "        if not isinstance(initial_balance, (int, float)):\n",
        "            raise TypeError(\"Initial balance must be a number.\")\n",
        "        if initial_balance < 0:\n",
        "            raise ValueError(\"Initial balance cannot be negative.\")\n",
        "        self.__balance = initial_balance  # Private attribute\n",
        "\n",
        "    def deposit(self, amount):\n",
        "        \"\"\"\n",
        "        Deposits money into the account.\n",
        "\n",
        "        Args:\n",
        "            amount (float): The amount to deposit.\n",
        "        Raises:\n",
        "            TypeError: If amount is not a number.\n",
        "            ValueError: If amount is not positive.\n",
        "        \"\"\"\n",
        "        if not isinstance(amount, (int, float)):\n",
        "            raise TypeError(\"Deposit amount must be a number.\")\n",
        "        if amount <= 0:\n",
        "            raise ValueError(\"Deposit amount must be positive.\")\n",
        "        self.__balance += amount\n",
        "        print(f\"Deposited {amount:.2f}. New balance: {self.__balance:.2f}\")\n",
        "\n",
        "    def withdraw(self, amount):\n",
        "        \"\"\"\n",
        "        Withdraws money from the account.\n",
        "\n",
        "        Args:\n",
        "            amount (float): The amount to withdraw.\n",
        "        Raises:\n",
        "            TypeError: If amount is not a number.\n",
        "            ValueError: If amount is not positive or exceeds the balance.\n",
        "        \"\"\"\n",
        "        if not isinstance(amount, (int, float)):\n",
        "            raise TypeError(\"Withdrawal amount must be a number.\")\n",
        "        if amount <= 0:\n",
        "            raise ValueError(\"Withdrawal amount must be positive.\")\n",
        "        if amount > self.__balance:\n",
        "            raise ValueError(\"Insufficient funds.\")\n",
        "        self.__balance -= amount\n",
        "        print(f\"Withdrew {amount:.2f}. New balance: {self.__balance:.2f}\")\n",
        "\n",
        "    def get_balance(self):\n",
        "        \"\"\"\n",
        "        Returns the current balance of the account.  This is a safer way to access the balance.\n",
        "        \"\"\"\n",
        "        return self.__balance\n",
        "\n",
        "    def display_balance(self):\n",
        "        \"\"\"\n",
        "        Displays the current balance of the account.\n",
        "        \"\"\"\n",
        "        print(f\"Current balance: {self.__balance:.2f}\")\n",
        "\n",
        "    def __str__(self):\n",
        "        \"\"\"\n",
        "        Returns a string representation of the BankAccount object.\n",
        "        \"\"\"\n",
        "        return f\"Account Holder: {self.account_holder}, Balance: {self.__balance:.2f}\"\n",
        "\n",
        "# Example usage:\n",
        "account1 = BankAccount(\"Alice\", 1000.00)\n",
        "print(account1)  # Uses the __str__ method\n",
        "\n",
        "account1.deposit(500)\n",
        "account1.withdraw(200)\n",
        "account1.display_balance()\n",
        "\n",
        "# Demonstrate that direct access to __balance is restricted:\n",
        "try:\n",
        "    print(account1.__balance)  # This will raise an AttributeError\n",
        "except AttributeError as e:\n",
        "    print(f\"Error: {e}\")\n",
        "\n",
        "# Use the get_balance() method to access the balance:\n",
        "print(f\"Current balance: {account1.get_balance():.2f}\")\n",
        "\n",
        "# Test cases for invalid input:\n",
        "try:\n",
        "    account2 = BankAccount(\"Bob\", -100)\n",
        "except ValueError as e:\n",
        "    print(f\"Error: {e}\")\n",
        "\n",
        "try:\n",
        "    account3 = BankAccount(\"Charlie\", \"invalid\")\n",
        "except TypeError as e:\n",
        "    print(f\"Error: {e}\")\n",
        "\n",
        "try:\n",
        "    account1.deposit(\"invalid\")\n",
        "except TypeError as e:\n",
        "    print(f\"Error: {e}\")\n",
        "\n",
        "try:\n",
        "    account1.deposit(-100)\n",
        "except ValueError as e:\n",
        "    print(f\"Error: {e}\")\n",
        "\n",
        "try:\n",
        "    account1.withdraw(\"invalid\")\n",
        "except TypeError as e:\n",
        "    print(f\"Error: {e}\")\n",
        "\n",
        "try:\n",
        "    account1.withdraw(-100)\n",
        "except ValueError as e:\n",
        "    print(f\"Error: {e}\")\n",
        "\n",
        "try:\n",
        "    account1.withdraw(10000)\n",
        "except ValueError as e:\n",
        "    print(f\"Error: {e}\")\n"
      ],
      "metadata": {
        "colab": {
          "base_uri": "https://localhost:8080/"
        },
        "id": "AEtkBcNPFnFt",
        "outputId": "9eb366ea-0170-4deb-deb1-ef5926521675"
      },
      "execution_count": null,
      "outputs": [
        {
          "output_type": "stream",
          "name": "stdout",
          "text": [
            "Account Holder: Alice, Balance: 1000.00\n",
            "Deposited 500.00. New balance: 1500.00\n",
            "Withdrew 200.00. New balance: 1300.00\n",
            "Current balance: 1300.00\n",
            "Error: 'BankAccount' object has no attribute '__balance'\n",
            "Current balance: 1300.00\n",
            "Error: Initial balance cannot be negative.\n",
            "Error: Initial balance must be a number.\n",
            "Error: Deposit amount must be a number.\n",
            "Error: Deposit amount must be positive.\n",
            "Error: Withdrawal amount must be a number.\n",
            "Error: Withdrawal amount must be positive.\n",
            "Error: Insufficient funds.\n"
          ]
        }
      ]
    },
    {
      "cell_type": "markdown",
      "source": [
        "6. 6. Demonstrate runtime polymorphism using a method play() in a base class Instrument. Derive classes Guitar\n",
        "\n",
        "and Piano that implement their own version of play()."
      ],
      "metadata": {
        "id": "HOEufvFSGCrh"
      }
    },
    {
      "cell_type": "code",
      "source": [
        "class Instrument:\n",
        "    \"\"\"\n",
        "    Base class representing a musical instrument.\n",
        "    \"\"\"\n",
        "    def play(self):\n",
        "        \"\"\"\n",
        "        A generic method to simulate playing an instrument.\n",
        "        \"\"\"\n",
        "        print(\"Generic instrument playing.\")\n",
        "\n",
        "class Guitar(Instrument):\n",
        "    \"\"\"\n",
        "    Derived class representing a guitar.\n",
        "    \"\"\"\n",
        "    def play(self):\n",
        "        \"\"\"\n",
        "        Overrides the play method to simulate playing a guitar.\n",
        "        \"\"\"\n",
        "        print(\"Guitar is strumming.\")\n",
        "\n",
        "class Piano(Instrument):\n",
        "    \"\"\"\n",
        "    Derived class representing a piano.\n",
        "    \"\"\"\n",
        "    def play(self):\n",
        "        \"\"\"\n",
        "        Overrides the play method to simulate playing a piano.\n",
        "        \"\"\"\n",
        "        print(\"Piano is playing keys.\")\n",
        "\n",
        "# Demonstrating runtime polymorphism\n",
        "def perform_instrument(instrument):\n",
        "    \"\"\"\n",
        "    A function that takes an Instrument object and calls its play() method.\n",
        "    The actual method called depends on the type of Instrument object.\n",
        "    \"\"\"\n",
        "    instrument.play()\n",
        "\n",
        "# Main program\n",
        "if __name__ == \"__main__\":\n",
        "    # Create instances of different instruments\n",
        "    instrument = Instrument()\n",
        "    guitar = Guitar()\n",
        "    piano = Piano()\n",
        "\n",
        "    # Demonstrate polymorphism using the perform_instrument function\n",
        "    print(\"Performing Instruments:\")\n",
        "    perform_instrument(instrument)  # Calls Instrument's play()\n",
        "    perform_instrument(guitar)      # Calls Guitar's play()\n",
        "    perform_instrument(piano)       # Calls Piano's play()\n",
        "\n",
        "    print(\"-\" * 20)\n",
        "    # Demonstrate polymorphism by iterating through a list\n",
        "    instruments = [Guitar(), Piano(), Guitar()]  # List of Instrument objects\n",
        "    print(\"Playing instruments in a list:\")\n",
        "    for instrument in instruments:\n",
        "        instrument.play() # Calls the appropriate play() method for each instrument\n"
      ],
      "metadata": {
        "colab": {
          "base_uri": "https://localhost:8080/"
        },
        "id": "1USpaJwwGBut",
        "outputId": "ac4c8252-16cd-43e8-9d2c-38b110be455b"
      },
      "execution_count": null,
      "outputs": [
        {
          "output_type": "stream",
          "name": "stdout",
          "text": [
            "Performing Instruments:\n",
            "Generic instrument playing.\n",
            "Guitar is strumming.\n",
            "Piano is playing keys.\n",
            "--------------------\n",
            "Playing instruments in a list:\n",
            "Guitar is strumming.\n",
            "Piano is playing keys.\n",
            "Guitar is strumming.\n"
          ]
        }
      ]
    },
    {
      "cell_type": "markdown",
      "source": [
        "7. . Create a class MathOperations with a class method add_numbers() to add two numbers and a static\n",
        "method subtract_numbers() to subtract two numbers."
      ],
      "metadata": {
        "id": "oTqO_JIBG36C"
      }
    },
    {
      "cell_type": "code",
      "source": [
        "class MathOperations:\n",
        "    \"\"\"\n",
        "    A class containing class and static methods for mathematical operations.\n",
        "    \"\"\"\n",
        "\n",
        "    @classmethod\n",
        "    def add_numbers(cls, x, y):\n",
        "        \"\"\"\n",
        "        A class method that adds two numbers.\n",
        "\n",
        "        Args:\n",
        "            x (int or float): The first number.\n",
        "            y (int or float): The second number.\n",
        "\n",
        "        Returns:\n",
        "            int or float: The sum of x and y.\n",
        "        \"\"\"\n",
        "        # Class methods can access class-level attributes (if any), but there are none in this class.\n",
        "        # We could, for example, access a class variable that stores the history of operations.\n",
        "        return x + y\n",
        "\n",
        "    @staticmethod\n",
        "    def subtract_numbers(x, y):\n",
        "        \"\"\"\n",
        "        A static method that subtracts two numbers.\n",
        "\n",
        "        Args:\n",
        "            x (int or float): The first number.\n",
        "            y (int or float): The second number.\n",
        "\n",
        "        Returns:\n",
        "            int or float: The difference between x and y (x - y).\n",
        "        \"\"\"\n",
        "        # Static methods do not have access to the class or instance.\n",
        "        # They are essentially functions that belong to the class.\n",
        "        return x - y\n",
        "\n",
        "    @staticmethod\n",
        "    def multiply_numbers(x, y):\n",
        "        \"\"\"\n",
        "        A static method to multiply two numbers\n",
        "        Args:\n",
        "            x: The first number\n",
        "            y: The second number\n",
        "        Returns:\n",
        "            The product of the two numbers\n",
        "        \"\"\"\n",
        "        return x * y\n",
        "\n",
        "# Example Usage\n",
        "if __name__ == \"__main__\":\n",
        "    # Calling the class method add_numbers()\n",
        "    sum_result = MathOperations.add_numbers(5, 3)\n",
        "    print(f\"Sum: {sum_result}\")  # Output: Sum: 8\n",
        "\n",
        "    # Calling the static method subtract_numbers()\n",
        "    difference_result = MathOperations.subtract_numbers(10, 4)\n",
        "    print(f\"Difference: {difference_result}\")  # Output: Difference: 6\n",
        "\n",
        "    #Demonstrate that you can call static method using instance of class\n",
        "    instance = MathOperations()\n",
        "    product_result = instance.subtract_numbers(10,4)\n",
        "    print(f\"Difference using instance: {product_result}\")\n",
        "\n",
        "    product_result = MathOperations.multiply_numbers(2, 4)\n",
        "    print(f\"Product: {product_result}\")\n"
      ],
      "metadata": {
        "colab": {
          "base_uri": "https://localhost:8080/"
        },
        "id": "hE2cLAgqG2iC",
        "outputId": "a72c3618-bd01-4425-fd0d-1974debe7bb5"
      },
      "execution_count": null,
      "outputs": [
        {
          "output_type": "stream",
          "name": "stdout",
          "text": [
            "Sum: 8\n",
            "Difference: 6\n",
            "Difference using instance: 6\n",
            "Product: 8\n"
          ]
        }
      ]
    },
    {
      "cell_type": "markdown",
      "source": [
        "8. Implement a class Person with a class method to count the total number of persons created."
      ],
      "metadata": {
        "id": "BUs-HpY2HRXr"
      }
    },
    {
      "cell_type": "code",
      "source": [
        "class Person:\n",
        "    \"\"\"\n",
        "    A class representing a person.\n",
        "    \"\"\"\n",
        "\n",
        "    # Class variable to store the total number of persons\n",
        "    _person_count = 0  # Changed to single underscore\n",
        "\n",
        "    def __init__(self, name):\n",
        "        \"\"\"\n",
        "        Initializes a Person object with a name and increments the person count.\n",
        "\n",
        "        Args:\n",
        "            name (str): The name of the person.\n",
        "        \"\"\"\n",
        "        self.name = name\n",
        "        Person._person_count += 1  # Access using the class name\n",
        "\n",
        "    @classmethod\n",
        "    def get_person_count(cls):\n",
        "        \"\"\"\n",
        "        A class method to get the total number of persons created.\n",
        "\n",
        "        Returns:\n",
        "            int: The total number of persons.\n",
        "        \"\"\"\n",
        "        return cls._person_count  # Access using cls\n",
        "\n",
        "    def __str__(self):\n",
        "        return f\"Person(name='{self.name}')\"\n",
        "\n",
        "# Example Usage\n",
        "if __name__ == \"__main__\":\n",
        "    # Create some Person objects\n",
        "    person1 = Person(\"Alice\")\n",
        "    person2 = Person(\"Bob\")\n",
        "    person3 = Person(\"Charlie\")\n",
        "\n",
        "    # Get and print the total number of persons\n",
        "    total_persons = Person.get_person_count()\n",
        "    print(f\"Total number of persons: {total_persons}\")  # Output: 3\n",
        "\n",
        "    # Create more Person objects\n",
        "    person4 = Person(\"David\")\n",
        "    person5 = Person(\"Eve\")\n",
        "\n",
        "    # Get and print the updated total number of persons\n",
        "    total_persons = Person.get_person_count()\n",
        "    print(f\"Total number of persons: {total_persons}\")  # Output: 5\n",
        "\n",
        "    print(person1)\n",
        "    print(person2)\n",
        "    print(person3)\n",
        "    print(person4)\n",
        "    print(person5)\n"
      ],
      "metadata": {
        "colab": {
          "base_uri": "https://localhost:8080/"
        },
        "id": "51oZVDpOHQmG",
        "outputId": "b420d594-b2f8-465e-e33e-5ac42c5c92d9"
      },
      "execution_count": null,
      "outputs": [
        {
          "output_type": "stream",
          "name": "stdout",
          "text": [
            "Total number of persons: 3\n",
            "Total number of persons: 5\n",
            "Person(name='Alice')\n",
            "Person(name='Bob')\n",
            "Person(name='Charlie')\n",
            "Person(name='David')\n",
            "Person(name='Eve')\n"
          ]
        }
      ]
    },
    {
      "cell_type": "markdown",
      "source": [
        "9.  Write a class Fraction with attributes numerator and denominator. Override the str method to display the\n",
        "fraction as \"numerator/denominator\"."
      ],
      "metadata": {
        "id": "S9GsYQ96HbYs"
      }
    },
    {
      "cell_type": "code",
      "source": [
        "class Fraction:\n",
        "    \"\"\"\n",
        "    A class representing a fraction with a numerator and denominator.\n",
        "    \"\"\"\n",
        "    def __init__(self, numerator, denominator):\n",
        "        \"\"\"\n",
        "        Initializes a Fraction object.\n",
        "\n",
        "        Args:\n",
        "            numerator (int): The numerator of the fraction.\n",
        "            denominator (int): The denominator of the fraction.\n",
        "\n",
        "        Raises:\n",
        "            TypeError: If numerator or denominator is not an integer.\n",
        "            ValueError: If denominator is zero.\n",
        "        \"\"\"\n",
        "        if not isinstance(numerator, int) or not isinstance(denominator, int):\n",
        "            raise TypeError(\"Numerator and denominator must be integers.\")\n",
        "        if denominator == 0:\n",
        "            raise ValueError(\"Denominator cannot be zero.\")\n",
        "        self.numerator = numerator\n",
        "        self.denominator = denominator\n",
        "\n",
        "    def __str__(self):\n",
        "        \"\"\"\n",
        "        Overrides the str method to display the fraction as \"numerator/denominator\".\n",
        "\n",
        "        Returns:\n",
        "            str: The string representation of the fraction.\n",
        "        \"\"\"\n",
        "        return f\"{self.numerator}/{self.denominator}\"\n",
        "\n",
        "    def __repr__(self):\n",
        "        \"\"\"\n",
        "        Official string representation for developers, useful for debugging.\n",
        "        \"\"\"\n",
        "        return f\"Fraction(numerator={self.numerator}, denominator={self.denominator})\"\n",
        "\n",
        "# Example Usage\n",
        "if __name__ == \"__main__\":\n",
        "    # Create a Fraction object\n",
        "    fraction1 = Fraction(3, 4)\n",
        "\n",
        "    # Print the fraction using the overridden __str__ method\n",
        "    print(fraction1)  # Output: 3/4\n",
        "\n",
        "    #check the type\n",
        "    print(type(fraction1)) #<class '__main__.Fraction'>\n",
        "\n",
        "    # Example of using __repr__ (useful in interactive environments)\n",
        "    print(repr(fraction1))\n",
        "    print(f\"{fraction1!r}\") #another way to call __repr__\n"
      ],
      "metadata": {
        "colab": {
          "base_uri": "https://localhost:8080/"
        },
        "id": "V5pgC9ZXHapO",
        "outputId": "6f7e7ff5-0f49-4e19-9b5b-e6895bce2f72"
      },
      "execution_count": null,
      "outputs": [
        {
          "output_type": "stream",
          "name": "stdout",
          "text": [
            "3/4\n",
            "<class '__main__.Fraction'>\n",
            "Fraction(numerator=3, denominator=4)\n",
            "Fraction(numerator=3, denominator=4)\n"
          ]
        }
      ]
    },
    {
      "cell_type": "markdown",
      "source": [
        "10.  Demonstrate operator overloading by creating a class Vector and overriding the add method to add two\n",
        "vectors."
      ],
      "metadata": {
        "id": "-p4b044bHjsU"
      }
    },
    {
      "cell_type": "code",
      "source": [
        "class Vector:\n",
        "    \"\"\"\n",
        "    A class representing a vector in n-dimensional space.\n",
        "    \"\"\"\n",
        "    def __init__(self, coordinates):\n",
        "        \"\"\"\n",
        "        Initializes a Vector object.\n",
        "\n",
        "        Args:\n",
        "            coordinates (list): A list of numbers representing the coordinates of the vector.\n",
        "\n",
        "        Raises:\n",
        "            TypeError: If coordinates is not a list.\n",
        "            ValueError: If the coordinates list is empty.\n",
        "        \"\"\"\n",
        "        if not isinstance(coordinates, list):\n",
        "            raise TypeError(\"Coordinates must be a list.\")\n",
        "        if not coordinates:\n",
        "            raise ValueError(\"Coordinates list cannot be empty.\")\n",
        "        for coord in coordinates:\n",
        "            if not isinstance(coord, (int, float)):\n",
        "                raise TypeError(\"Coordinates must be numbers (int or float).\")\n",
        "        self.coordinates = coordinates\n",
        "\n",
        "    def __add__(self, other):\n",
        "        \"\"\"\n",
        "        Overrides the + operator to add two vectors.\n",
        "\n",
        "        Args:\n",
        "            other (Vector): The other vector to add.\n",
        "\n",
        "        Returns:\n",
        "            Vector: A new Vector object representing the sum of the two vectors.\n",
        "\n",
        "        Raises:\n",
        "            TypeError: If other is not a Vector object.\n",
        "            ValueError: If the vectors have different dimensions.\n",
        "        \"\"\"\n",
        "        if not isinstance(other, Vector):\n",
        "            raise TypeError(\"Cannot add Vector with an object of different type.\")\n",
        "        if len(self.coordinates) != len(other.coordinates):\n",
        "            raise ValueError(\"Vectors must have the same dimension to be added.\")\n",
        "\n",
        "        # Add corresponding coordinates to create the new vector's coordinates\n",
        "        new_coordinates = [self_coord + other_coord for self_coord, other_coord in zip(self.coordinates, other.coordinates)]\n",
        "        return Vector(new_coordinates)\n",
        "\n",
        "    def __str__(self):\n",
        "        \"\"\"\n",
        "        Returns a string representation of the vector.\n",
        "        \"\"\"\n",
        "        return f\"Vector({self.coordinates})\"\n",
        "\n",
        "    def __repr__(self):\n",
        "        \"\"\"\n",
        "        Official string representation for developers.\n",
        "        \"\"\"\n",
        "        return f\"Vector(coordinates={self.coordinates})\"\n",
        "\n",
        "# Example Usage\n",
        "if __name__ == \"__main__\":\n",
        "    # Create two Vector objects\n",
        "    vector1 = Vector([1, 2, 3])\n",
        "    vector2 = Vector([4, 5, 6])\n",
        "\n",
        "    # Add the two vectors using the overloaded + operator\n",
        "    vector3 = vector1 + vector2\n",
        "    print(f\"Sum of {vector1} and {vector2} is {vector3}\")  # Output: Vector([5, 7, 9])\n",
        "\n",
        "    # Example with different dimensions (should raise ValueError)\n",
        "    try:\n",
        "        vector4 = Vector([1, 2])\n",
        "        vector5 = vector1 + vector4\n",
        "    except ValueError as e:\n",
        "        print(f\"Error: {e}\")\n",
        "\n",
        "    # Example with invalid type (should raise TypeError)\n",
        "    try:\n",
        "        vector6 = vector1 + [7, 8, 9]\n",
        "    except TypeError as e:\n",
        "        print(f\"Error: {e}\")\n",
        "\n",
        "    # Empty Vector\n",
        "    try:\n",
        "        vector7 = Vector([])\n",
        "    except ValueError as e:\n",
        "        print(f\"Error: {e}\")\n",
        "\n",
        "    #Non-numeric coordinates\n",
        "    try:\n",
        "        vector8 = Vector([\"1\", 2, 3])\n",
        "    except TypeError as e:\n",
        "        print(f\"Error: {e}\")\n",
        "class Vector:\n",
        "    \"\"\"\n",
        "    A class representing a vector in n-dimensional space.\n",
        "    \"\"\"\n",
        "    def __init__(self, coordinates):\n",
        "        \"\"\"\n",
        "        Initializes a Vector object.\n",
        "\n",
        "        Args:\n",
        "            coordinates (list): A list of numbers representing the coordinates of the vector.\n",
        "\n",
        "        Raises:\n",
        "            TypeError: If coordinates is not a list.\n",
        "            ValueError: If the coordinates list is empty.\n",
        "        \"\"\"\n",
        "        if not isinstance(coordinates, list):\n",
        "            raise TypeError(\"Coordinates must be a list.\")\n",
        "        if not coordinates:\n",
        "            raise ValueError(\"Coordinates list cannot be empty.\")\n",
        "        for coord in coordinates:\n",
        "            if not isinstance(coord, (int, float)):\n",
        "                raise TypeError(\"Coordinates must be numbers (int or float).\")\n",
        "        self.coordinates = coordinates\n",
        "\n",
        "    def __add__(self, other):\n",
        "        \"\"\"\n",
        "        Overrides the + operator to add two vectors.\n",
        "\n",
        "        Args:\n",
        "            other (Vector): The other vector to add.\n",
        "\n",
        "        Returns:\n",
        "            Vector: A new Vector object representing the sum of the two vectors.\n",
        "\n",
        "        Raises:\n",
        "            TypeError: If other is not a Vector object.\n",
        "            ValueError: If the vectors have different dimensions.\n",
        "        \"\"\"\n",
        "        if not isinstance(other, Vector):\n",
        "            raise TypeError(\"Cannot add Vector with an object of different type.\")\n",
        "        if len(self.coordinates) != len(other.coordinates):\n",
        "            raise ValueError(\"Vectors must have the same dimension to be added.\")\n",
        "\n",
        "        # Add corresponding coordinates to create the new vector's coordinates\n",
        "        new_coordinates = [self_coord + other_coord for self_coord, other_coord in zip(self.coordinates, other.coordinates)]\n",
        "        return Vector(new_coordinates)\n",
        "\n",
        "    def __str__(self):\n",
        "        \"\"\"\n",
        "        Returns a string representation of the vector.\n",
        "        \"\"\"\n",
        "        return f\"Vector({self.coordinates})\"\n",
        "\n",
        "    def __repr__(self):\n",
        "        \"\"\"\n",
        "        Official string representation for developers.\n",
        "        \"\"\"\n",
        "        return f\"Vector(coordinates={self.coordinates})\"\n",
        "\n",
        "# Example Usage\n",
        "if __name__ == \"__main__\":\n",
        "    # Create two Vector objects\n",
        "    vector1 = Vector([1, 2, 3])\n",
        "    vector2 = Vector([4, 5, 6])\n",
        "\n",
        "    # Add the two vectors using the overloaded + operator\n",
        "    vector3 = vector1 + vector2\n",
        "    print(f\"Sum of {vector1} and {vector2} is {vector3}\")  # Output: Vector([5, 7, 9])\n",
        "\n",
        "    # Example with different dimensions (should raise ValueError)\n",
        "    try:\n",
        "        vector4 = Vector([1, 2])\n",
        "        vector5 = vector1 + vector4\n",
        "    except ValueError as e:\n",
        "        print(f\"Error: {e}\")\n",
        "\n",
        "    # Example with invalid type (should raise TypeError)\n",
        "    try:\n",
        "        vector6 = vector1 + [7, 8, 9]\n",
        "    except TypeError as e:\n",
        "        print(f\"Error: {e}\")\n",
        "\n",
        "    # Empty Vector\n",
        "    try:\n",
        "        vector7 = Vector([])\n",
        "    except ValueError as e:\n",
        "        print(f\"Error: {e}\")\n",
        "\n",
        "    #Non-numeric coordinates\n",
        "    try:\n",
        "        vector8 = Vector([\"1\", 2, 3])\n",
        "    except TypeError as e:\n",
        "        print(f\"Error: {e}\")\n"
      ],
      "metadata": {
        "colab": {
          "base_uri": "https://localhost:8080/"
        },
        "id": "zpbN0OYrHikl",
        "outputId": "fca26c6f-8001-4cae-b910-19e1b6178701"
      },
      "execution_count": null,
      "outputs": [
        {
          "output_type": "stream",
          "name": "stdout",
          "text": [
            "Sum of Vector([1, 2, 3]) and Vector([4, 5, 6]) is Vector([5, 7, 9])\n",
            "Error: Vectors must have the same dimension to be added.\n",
            "Error: Cannot add Vector with an object of different type.\n",
            "Error: Coordinates list cannot be empty.\n",
            "Error: Coordinates must be numbers (int or float).\n",
            "Sum of Vector([1, 2, 3]) and Vector([4, 5, 6]) is Vector([5, 7, 9])\n",
            "Error: Vectors must have the same dimension to be added.\n",
            "Error: Cannot add Vector with an object of different type.\n",
            "Error: Coordinates list cannot be empty.\n",
            "Error: Coordinates must be numbers (int or float).\n"
          ]
        }
      ]
    },
    {
      "cell_type": "markdown",
      "source": [
        "11. Create a class Person with attributes name and age. Add a method greet() that prints \"Hello, my name is\n",
        "{name} and I am {age} years old.\"\n",
        "\n",
        "\n"
      ],
      "metadata": {
        "id": "YLLLYn7MHqoA"
      }
    },
    {
      "cell_type": "code",
      "source": [
        "class Person:\n",
        "    \"\"\"\n",
        "    A class representing a person with name and age attributes.\n",
        "    \"\"\"\n",
        "    def __init__(self, name, age):\n",
        "        \"\"\"\n",
        "        Initializes a Person object.\n",
        "\n",
        "        Args:\n",
        "            name (str): The name of the person.\n",
        "            age (int): The age of the person.\n",
        "\n",
        "        Raises:\n",
        "            TypeError: If name is not a string or age is not an integer.\n",
        "            ValueError: If age is negative.\n",
        "        \"\"\"\n",
        "        if not isinstance(name, str):\n",
        "            raise TypeError(\"Name must be a string.\")\n",
        "        if not isinstance(age, int):\n",
        "            raise TypeError(\"Age must be an integer.\")\n",
        "        if age < 0:\n",
        "            raise ValueError(\"Age cannot be negative.\")\n",
        "        self.name = name\n",
        "        self.age = age\n",
        "\n",
        "    def greet(self):\n",
        "        \"\"\"\n",
        "        Prints a greeting message including the person's name and age.\n",
        "        \"\"\"\n",
        "        print(f\"Hello, my name is {self.name} and I am {self.age} years old.\")\n",
        "\n",
        "    def __str__(self):\n",
        "        \"\"\"\n",
        "        Returns a string representation of the Person object.\n",
        "        \"\"\"\n",
        "        return f\"Person(name='{self.name}', age={self.age})\"\n",
        "\n",
        "# Example Usage\n",
        "if __name__ == \"__main__\":\n",
        "    # Create a Person object\n",
        "    person1 = Person(\"Alice\", 30)\n",
        "\n",
        "    # Call the greet() method\n",
        "    person1.greet()  # Output: Hello, my name is Alice and I am 30 years old.\n",
        "\n",
        "    # Print the person object\n",
        "    print(person1)  # Output: Person(name='Alice', age=30)\n",
        "\n",
        "    # Create another Person object\n",
        "    person2 = Person(\"Bob\", 25)\n",
        "    person2.greet()\n",
        "\n",
        "    # Test cases for invalid input\n",
        "    try:\n",
        "        person3 = Person(123, 30)  # Invalid name type\n",
        "    except TypeError as e:\n",
        "        print(f\"Error: {e}\")\n",
        "\n",
        "    try:\n",
        "        person4 = Person(\"Charlie\", \"25\")  # Invalid age type\n",
        "    except TypeError as e:\n",
        "        print(f\"Error: {e}\")\n",
        "\n",
        "    try:\n",
        "        person5 = Person(\"David\", -5)  # Invalid age value\n",
        "    except ValueError as e:\n",
        "        print(f\"Error: {e}\")\n"
      ],
      "metadata": {
        "colab": {
          "base_uri": "https://localhost:8080/"
        },
        "id": "JFp3LTJWHptG",
        "outputId": "e09dbc7d-333e-4985-dbdc-822dc3eb37b7"
      },
      "execution_count": null,
      "outputs": [
        {
          "output_type": "stream",
          "name": "stdout",
          "text": [
            "Hello, my name is Alice and I am 30 years old.\n",
            "Person(name='Alice', age=30)\n",
            "Hello, my name is Bob and I am 25 years old.\n",
            "Error: Name must be a string.\n",
            "Error: Age must be an integer.\n",
            "Error: Age cannot be negative.\n"
          ]
        }
      ]
    },
    {
      "cell_type": "markdown",
      "source": [
        "12.  Implement a class Student with attributes name and grades. Create a method average_grade() to compute\n",
        "the average of the grades."
      ],
      "metadata": {
        "id": "520iDsagHy9R"
      }
    },
    {
      "cell_type": "code",
      "source": [
        "class Student:\n",
        "    \"\"\"\n",
        "    A class representing a student with name and grades attributes.\n",
        "    \"\"\"\n",
        "    def __init__(self, name, grades):\n",
        "        \"\"\"\n",
        "        Initializes a Student object.\n",
        "\n",
        "        Args:\n",
        "            name (str): The name of the student.\n",
        "            grades (list): A list of numerical grades (int or float).\n",
        "\n",
        "        Raises:\n",
        "            TypeError: If name is not a string or grades is not a list.\n",
        "            ValueError: If grades list is empty or contains non-numerical values.\n",
        "        \"\"\"\n",
        "        if not isinstance(name, str):\n",
        "            raise TypeError(\"Name must be a string.\")\n",
        "        if not isinstance(grades, list):\n",
        "            raise TypeError(\"Grades must be a list.\")\n",
        "        if not grades:\n",
        "            raise ValueError(\"Grades list cannot be empty.\")\n",
        "        for grade in grades:\n",
        "            if not isinstance(grade, (int, float)):\n",
        "                raise ValueError(\"All grades must be numbers (int or float).\")\n",
        "        self.name = name\n",
        "        self.grades = grades\n",
        "\n",
        "    def average_grade(self):\n",
        "        \"\"\"\n",
        "        Computes the average of the grades.\n",
        "\n",
        "        Returns:\n",
        "            float: The average of the grades.\n",
        "        \"\"\"\n",
        "        if not self.grades:\n",
        "            return 0.0  # Handle empty grades list\n",
        "        return sum(self.grades) / len(self.grades)\n",
        "\n",
        "    def __str__(self):\n",
        "        \"\"\"\n",
        "        Returns a string representation of the Student object.\n",
        "        \"\"\"\n",
        "        return f\"Student(name='{self.name}', grades={self.grades})\"\n",
        "\n",
        "# Example Usage\n",
        "if __name__ == \"__main__\":\n",
        "    # Create a Student object\n",
        "    student1 = Student(\"Alice\", [90, 85, 92, 78])\n",
        "\n",
        "    # Compute and print the average grade\n",
        "    average1 = student1.average_grade()\n",
        "    print(f\"Average grade for {student1.name}: {average1:.2f}\")  # Output: 86.25\n",
        "\n",
        "    # Print the student object\n",
        "    print(student1)  # Output: Student(name='Alice', grades=[90, 85, 92, 78])\n",
        "\n",
        "    # Create another Student object\n",
        "    student2 = Student(\"Bob\", [75, 80, 88, 95])\n",
        "    average2 = student2.average_grade()\n",
        "    print(f\"Average grade for {student2.name}: {average2:.2f}\")\n",
        "\n",
        "    # Test cases for invalid input\n",
        "    try:\n",
        "        student3 = Student(123, [90, 80])  # Invalid name type\n",
        "    except TypeError as e:\n",
        "        print(f\"Error: {e}\")\n",
        "\n",
        "    try:\n",
        "        student4 = Student(\"Charlie\", \"invalid\")  # Invalid grades type\n",
        "    except TypeError as e:\n",
        "        print(f\"Error: {e}\")\n",
        "\n",
        "    try:\n",
        "        student5 = Student(\"David\", [])  # Empty grades list\n",
        "    except ValueError as e:\n",
        "        print(f\"Error: {e}\")\n",
        "\n",
        "    try:\n",
        "        student6 = Student(\"Eve\", [80, \"90\", 70]) #Non-numeric grade\n",
        "    except ValueError as e:\n",
        "        print(f\"Error: {e}\")\n"
      ],
      "metadata": {
        "colab": {
          "base_uri": "https://localhost:8080/"
        },
        "id": "4XxsY4-_HyNf",
        "outputId": "a19d8319-21a2-454c-e4a8-95e96b3d81c7"
      },
      "execution_count": null,
      "outputs": [
        {
          "output_type": "stream",
          "name": "stdout",
          "text": [
            "Average grade for Alice: 86.25\n",
            "Student(name='Alice', grades=[90, 85, 92, 78])\n",
            "Average grade for Bob: 84.50\n",
            "Error: Name must be a string.\n",
            "Error: Grades must be a list.\n",
            "Error: Grades list cannot be empty.\n",
            "Error: All grades must be numbers (int or float).\n"
          ]
        }
      ]
    },
    {
      "cell_type": "markdown",
      "source": [
        "13.  Create a class Rectangle with methods set_dimensions() to set the dimensions and area() to calculate the\n",
        "area."
      ],
      "metadata": {
        "id": "BGt8CjCaH-B5"
      }
    },
    {
      "cell_type": "code",
      "source": [
        "class Rectangle:\n",
        "    \"\"\"\n",
        "    A class representing a rectangle with length and width attributes.\n",
        "    \"\"\"\n",
        "    def __init__(self):\n",
        "        \"\"\"\n",
        "        Initializes a Rectangle object with default dimensions of 0.\n",
        "        \"\"\"\n",
        "        self.length = 0\n",
        "        self.width = 0\n",
        "\n",
        "    def set_dimensions(self, length, width):\n",
        "        \"\"\"\n",
        "        Sets the dimensions of the rectangle.\n",
        "\n",
        "        Args:\n",
        "            length (float): The length of the rectangle.\n",
        "            width (float): The width of the rectangle.\n",
        "\n",
        "        Raises:\n",
        "            TypeError: If length or width is not a number (int or float).\n",
        "            ValueError: If length or width is negative.\n",
        "        \"\"\"\n",
        "        if not isinstance(length, (int, float)):\n",
        "            raise TypeError(\"Length must be a number (int or float).\")\n",
        "        if not isinstance(width, (int, float)):\n",
        "            raise TypeError(\"Width must be a number (int or float).\")\n",
        "        if length < 0 or width < 0:\n",
        "            raise ValueError(\"Length and width must be non-negative.\")\n",
        "        self.length = length\n",
        "        self.width = width\n",
        "\n",
        "    def area(self):\n",
        "        \"\"\"\n",
        "        Calculates the area of the rectangle.\n",
        "\n",
        "        Returns:\n",
        "            float: The area of the rectangle.\n",
        "        \"\"\"\n",
        "        return self.length * self.width\n",
        "\n",
        "    def __str__(self):\n",
        "        \"\"\"\n",
        "        Returns a string representation of the Rectangle object.\n",
        "        \"\"\"\n",
        "        return f\"Rectangle(length={self.length}, width={self.width})\"\n",
        "\n",
        "# Example Usage\n",
        "if __name__ == \"__main__\":\n",
        "    # Create a Rectangle object\n",
        "    rectangle1 = Rectangle()\n",
        "\n",
        "    # Set the dimensions of the rectangle\n",
        "    rectangle1.set_dimensions(5, 10)\n",
        "\n",
        "    # Calculate and print the area\n",
        "    area1 = rectangle1.area()\n",
        "    print(f\"Area of rectangle1: {area1}\")  # Output: 50\n",
        "\n",
        "    # Print the rectangle object\n",
        "    print(rectangle1)  # Output: Rectangle(length=5, width=10)\n",
        "\n",
        "    # Create another Rectangle object and set its dimensions\n",
        "    rectangle2 = Rectangle()\n",
        "    rectangle2.set_dimensions(3.5, 7.2)\n",
        "    area2 = rectangle2.area()\n",
        "    print(f\"Area of rectangle2: {area2:.2f}\")\n",
        "\n",
        "    # Test cases for invalid input\n",
        "    try:\n",
        "        rectangle3 = Rectangle()\n",
        "        rectangle3.set_dimensions(\"5\", 10)  # Invalid length type\n",
        "    except TypeError as e:\n",
        "        print(f\"Error: {e}\")\n",
        "\n",
        "    try:\n",
        "        rectangle4 = Rectangle()\n",
        "        rectangle4.set_dimensions(5, -10)  # Invalid width value\n",
        "    except ValueError as e:\n",
        "        print(f\"Error: {e}\")\n",
        "\n",
        "    try:\n",
        "        rectangle5 = Rectangle()\n",
        "        rectangle5.set_dimensions(5, 0)\n",
        "        print(f\"Area of rectangle5: {rectangle5.area()}\")\n",
        "    except ValueError as e:\n",
        "        print(f\"Error: {e}\")\n"
      ],
      "metadata": {
        "colab": {
          "base_uri": "https://localhost:8080/"
        },
        "id": "XOkUCY4RH9W2",
        "outputId": "a87876d1-e856-4336-c47d-f577f49a5856"
      },
      "execution_count": null,
      "outputs": [
        {
          "output_type": "stream",
          "name": "stdout",
          "text": [
            "Area of rectangle1: 50\n",
            "Rectangle(length=5, width=10)\n",
            "Area of rectangle2: 25.20\n",
            "Error: Length must be a number (int or float).\n",
            "Error: Length and width must be non-negative.\n",
            "Area of rectangle5: 0\n"
          ]
        }
      ]
    },
    {
      "cell_type": "markdown",
      "source": [
        "14.  Create a class Employee with a method calculate_salary() that computes the salary based on hours worked\n",
        "and hourly rate. Create a derived class Manager that adds a bonus to the salary."
      ],
      "metadata": {
        "id": "QkEi7mdvIVxt"
      }
    },
    {
      "cell_type": "code",
      "source": [
        "class Employee:\n",
        "    \"\"\"\n",
        "    A class representing an employee with methods to calculate salary.\n",
        "    \"\"\"\n",
        "    def __init__(self, name, hourly_rate, hours_worked):\n",
        "        \"\"\"\n",
        "        Initializes an Employee object.\n",
        "\n",
        "        Args:\n",
        "            name (str): The name of the employee.\n",
        "            hourly_rate (float): The hourly rate of the employee.\n",
        "            hours_worked (float): The number of hours worked by the employee.\n",
        "\n",
        "        Raises:\n",
        "            TypeError: If name is not a string, or hourly_rate/hours_worked are not numbers.\n",
        "            ValueError: If hourly_rate or hours_worked is negative.\n",
        "        \"\"\"\n",
        "        if not isinstance(name, str):\n",
        "            raise TypeError(\"Name must be a string.\")\n",
        "        if not isinstance(hourly_rate, (int, float)):\n",
        "            raise TypeError(\"Hourly rate must be a number.\")\n",
        "        if not isinstance(hours_worked, (int, float)):\n",
        "            raise TypeError(\"Hours worked must be a number.\")\n",
        "        if hourly_rate < 0:\n",
        "            raise ValueError(\"Hourly rate cannot be negative.\")\n",
        "        if hours_worked < 0:\n",
        "            raise ValueError(\"Hours worked cannot be negative.\")\n",
        "        self.name = name\n",
        "        self.hourly_rate = hourly_rate\n",
        "        self.hours_worked = hours_worked\n",
        "\n",
        "    def calculate_salary(self):\n",
        "        \"\"\"\n",
        "        Calculates the salary of the employee.\n",
        "\n",
        "        Returns:\n",
        "            float: The salary of the employee.\n",
        "        \"\"\"\n",
        "        return self.hourly_rate * self.hours_worked\n",
        "\n",
        "    def __str__(self):\n",
        "        \"\"\"\n",
        "        Returns a string representation of the Employee object.\n",
        "        \"\"\"\n",
        "        return f\"Employee(name='{self.name}', hourly_rate={self.hourly_rate}, hours_worked={self.hours_worked})\"\n",
        "\n",
        "\n",
        "class Manager(Employee):\n",
        "    \"\"\"\n",
        "    A derived class representing a manager, with a bonus added to the salary.\n",
        "    \"\"\"\n",
        "    def __init__(self, name, hourly_rate, hours_worked, bonus):\n",
        "        \"\"\"\n",
        "        Initializes a Manager object.\n",
        "\n",
        "        Args:\n",
        "            name (str): The name of the manager.\n",
        "            hourly_rate (float): The hourly rate of the manager.\n",
        "            hours_worked (float): The number of hours worked by the manager.\n",
        "            bonus (float): The bonus amount for the manager.\n",
        "\n",
        "        Raises:\n",
        "            TypeError: If bonus is not a number.\n",
        "            ValueError: If bonus is negative.\n",
        "        \"\"\"\n",
        "        super().__init__(name, hourly_rate, hours_worked)  # Call the parent class's constructor\n",
        "        if not isinstance(bonus, (int, float)):\n",
        "            raise TypeError(\"Bonus must be a number.\")\n",
        "        if bonus < 0:\n",
        "            raise ValueError(\"Bonus cannot be negative.\")\n",
        "        self.bonus = bonus\n",
        "\n",
        "    def calculate_salary(self):\n",
        "        \"\"\"\n",
        "        Calculates the salary of the manager, including the bonus.\n",
        "\n",
        "        Returns:\n",
        "            float: The salary of the manager.\n",
        "        \"\"\"\n",
        "        return super().calculate_salary() + self.bonus # Call the parent class's calculate_salary()\n",
        "\n",
        "    def __str__(self):\n",
        "        \"\"\"\n",
        "        Returns a string representation of the Manager object.\n",
        "        \"\"\"\n",
        "        return f\"Manager(name='{self.name}', hourly_rate={self.hourly_rate}, hours_worked={self.hours_worked}, bonus={self.bonus})\"\n",
        "\n",
        "# Example Usage\n",
        "if __name__ == \"__main__\":\n",
        "    # Create an Employee object\n",
        "    employee1 = Employee(\"Alice\", 20, 40)\n",
        "    salary1 = employee1.calculate_salary()\n",
        "    print(f\"Salary of {employee1.name}: {salary1}\")  # Output: 800\n",
        "\n",
        "    # Create a Manager object\n",
        "    manager1 = Manager(\"Bob\", 30, 40, 500)\n",
        "    salary_with_bonus = manager1.calculate_salary()\n",
        "    print(f\"Salary of {manager1.name}: {salary_with_bonus}\")  # Output: 1700\n",
        "\n",
        "    # Print the objects\n",
        "    print(employee1)\n",
        "    print(manager1)\n",
        "\n",
        "    #Test Cases\n",
        "    try:\n",
        "        employee2 = Employee(123, 20, 40) #Invalid name\n",
        "    except TypeError as e:\n",
        "        print(e)\n",
        "\n",
        "    try:\n",
        "        employee3 = Employee(\"Charlie\", -20, 40) #Invalid hourly rate\n",
        "    except ValueError as e:\n",
        "        print(e)\n",
        "\n",
        "    try:\n",
        "        employee4 = Employee(\"David\", 20, -40) # Invalid hours worked\n",
        "    except ValueError as e:\n",
        "        print(e)\n",
        "\n",
        "    try:\n",
        "        manager2 = Manager(\"Eve\", 30, 40, \"500\") # Invalid bonus\n",
        "    except TypeError as e:\n",
        "        print(e)\n",
        "\n",
        "    try:\n",
        "        manager3 = Manager(\"Frank\", 30, 40, -500) # Invalid bonus value\n",
        "    except ValueError as e:\n",
        "        print(e)\n"
      ],
      "metadata": {
        "colab": {
          "base_uri": "https://localhost:8080/"
        },
        "id": "00Vosc9cID-e",
        "outputId": "dbef8a5d-fd2c-4f58-ffaa-47e55fc674d5"
      },
      "execution_count": null,
      "outputs": [
        {
          "output_type": "stream",
          "name": "stdout",
          "text": [
            "Salary of Alice: 800\n",
            "Salary of Bob: 1700\n",
            "Employee(name='Alice', hourly_rate=20, hours_worked=40)\n",
            "Manager(name='Bob', hourly_rate=30, hours_worked=40, bonus=500)\n",
            "Name must be a string.\n",
            "Hourly rate cannot be negative.\n",
            "Hours worked cannot be negative.\n",
            "Bonus must be a number.\n",
            "Bonus cannot be negative.\n"
          ]
        }
      ]
    },
    {
      "cell_type": "markdown",
      "source": [
        "15.  Create a class Product with attributes name, price, and quantity. Implement a method total_price() that\n",
        "calculates the total price of the product."
      ],
      "metadata": {
        "id": "sSdKA99pIcg7"
      }
    },
    {
      "cell_type": "code",
      "source": [
        "class Product:\n",
        "    \"\"\"\n",
        "    A class representing a product with attributes name, price, and quantity.\n",
        "    \"\"\"\n",
        "    def __init__(self, name, price, quantity):\n",
        "        \"\"\"\n",
        "        Initializes a Product object.\n",
        "\n",
        "        Args:\n",
        "            name (str): The name of the product.\n",
        "            price (float): The price of the product.\n",
        "            quantity (int): The quantity of the product.\n",
        "\n",
        "        Raises:\n",
        "            TypeError: If name is not a string, or price/quantity are not numbers.\n",
        "            ValueError: If price or quantity is negative.\n",
        "        \"\"\"\n",
        "        if not isinstance(name, str):\n",
        "            raise TypeError(\"Name must be a string.\")\n",
        "        if not isinstance(price, (int, float)):\n",
        "            raise TypeError(\"Price must be a number.\")\n",
        "        if not isinstance(quantity, int):\n",
        "            raise TypeError(\"Quantity must be an integer.\")\n",
        "        if price < 0:\n",
        "            raise ValueError(\"Price cannot be negative.\")\n",
        "        if quantity < 0:\n",
        "            raise ValueError(\"Quantity cannot be negative.\")\n",
        "        self.name = name\n",
        "        self.price = price\n",
        "        self.quantity = quantity\n",
        "\n",
        "    def total_price(self):\n",
        "        \"\"\"\n",
        "        Calculates the total price of the product.\n",
        "\n",
        "        Returns:\n",
        "            float: The total price (price * quantity).\n",
        "        \"\"\"\n",
        "        return self.price * self.quantity\n",
        "\n",
        "    def __str__(self):\n",
        "        \"\"\"\n",
        "        Returns a string representation of the Product object.\n",
        "        \"\"\"\n",
        "        return f\"Product(name='{self.name}', price={self.price}, quantity={self.quantity})\"\n",
        "\n",
        "# Example Usage\n",
        "if __name__ == \"__main__\":\n",
        "    # Create a Product object\n",
        "    product1 = Product(\"Laptop\", 1200.00, 5)\n",
        "\n",
        "    # Calculate and print the total price\n",
        "    total_price1 = product1.total_price()\n",
        "    print(f\"Total price of {product1.name}: {total_price1:.2f}\")  # Output: 6000.00\n",
        "\n",
        "    # Print the product object\n",
        "    print(product1)  # Output: Product(name='Laptop', price=1200.0, quantity=5)\n",
        "\n",
        "    # Create another Product object\n",
        "    product2 = Product(\"Mouse\", 25.00, 20)\n",
        "    total_price2 = product2.total_price()\n",
        "    print(f\"Total price of {product2.name}: {total_price2:.2f}\")\n",
        "\n",
        "    # Test cases for invalid input\n",
        "    try:\n",
        "        product3 = Product(123, 100, 10)  # Invalid name type\n",
        "    except TypeError as e:\n",
        "        print(f\"Error: {e}\")\n",
        "\n",
        "    try:\n",
        "        product4 = Product(\"Keyboard\", \"100\", 10)  # Invalid price type\n",
        "    except TypeError as e:\n",
        "        print(f\"Error: {e}\")\n",
        "\n",
        "    try:\n",
        "        product5 = Product(\"Monitor\", 300, 10.5)  # Invalid quantity type\n",
        "    except TypeError as e:\n",
        "        print(f\"Error: {e}\")\n",
        "\n",
        "    try:\n",
        "        product6 = Product(\"Speaker\", -50, 2)  # Invalid price value\n",
        "    except ValueError as e:\n",
        "        print(f\"Error: {e}\")\n",
        "\n",
        "    try:\n",
        "        product7 = Product(\"Webcam\", 100, -3)  # Invalid quantity value\n",
        "    except ValueError as e:\n",
        "        print(f\"Error: {e}\")\n"
      ],
      "metadata": {
        "colab": {
          "base_uri": "https://localhost:8080/"
        },
        "id": "x1L-q3cEIbyu",
        "outputId": "24541859-87eb-4b71-a4c2-7c000ffe1fa5"
      },
      "execution_count": null,
      "outputs": [
        {
          "output_type": "stream",
          "name": "stdout",
          "text": [
            "Total price of Laptop: 6000.00\n",
            "Product(name='Laptop', price=1200.0, quantity=5)\n",
            "Total price of Mouse: 500.00\n",
            "Error: Name must be a string.\n",
            "Error: Price must be a number.\n",
            "Error: Quantity must be an integer.\n",
            "Error: Price cannot be negative.\n",
            "Error: Quantity cannot be negative.\n"
          ]
        }
      ]
    },
    {
      "cell_type": "markdown",
      "source": [
        "16. Create a class Animal with an abstract method sound(). Create two derived classes Cow and Sheep that\n",
        "implement the sound() method."
      ],
      "metadata": {
        "id": "6GeMcV60Ij1L"
      }
    },
    {
      "cell_type": "code",
      "source": [
        "from abc import ABC, abstractmethod\n",
        "\n",
        "class Animal(ABC):\n",
        "    \"\"\"\n",
        "    An abstract base class for animals.\n",
        "    \"\"\"\n",
        "    @abstractmethod\n",
        "    def sound(self):\n",
        "        \"\"\"\n",
        "        Abstract method to make a sound.  Subclasses must implement this.\n",
        "        \"\"\"\n",
        "        pass\n",
        "\n",
        "class Cow(Animal):\n",
        "    \"\"\"\n",
        "    Derived class representing a cow.\n",
        "    \"\"\"\n",
        "    def sound(self):\n",
        "        \"\"\"\n",
        "        Implements the sound method for a cow.\n",
        "        \"\"\"\n",
        "        print(\"Cow says: Moo!\")\n",
        "\n",
        "class Sheep(Animal):\n",
        "    \"\"\"\n",
        "    Derived class representing a sheep.\n",
        "    \"\"\"\n",
        "    def sound(self):\n",
        "        \"\"\"\n",
        "        Implements the sound method for a sheep.\n",
        "        \"\"\"\n",
        "        print(\"Sheep says: Baa!\")\n",
        "\n",
        "# Example Usage\n",
        "if __name__ == \"__main__\":\n",
        "    # You cannot create an instance of the abstract class Animal:\n",
        "    # animal = Animal()  # This will raise a TypeError\n",
        "\n",
        "    # Create instances of the derived classes\n",
        "    cow = Cow()\n",
        "    sheep = Sheep()\n",
        "\n",
        "    # Call the sound() method on each object\n",
        "    cow.sound()  # Output: Cow says: Moo!\n",
        "    sheep.sound()  # Output: Sheep says: Baa!\n",
        "\n",
        "    # Demonstrate polymorphism\n",
        "    animals = [cow, sheep]\n",
        "    for animal in animals:\n",
        "        animal.sound() # Calls the correct sound() method for each animal\n"
      ],
      "metadata": {
        "colab": {
          "base_uri": "https://localhost:8080/"
        },
        "id": "akVoiOu9IjCf",
        "outputId": "2955c66e-89ca-4e7e-cb03-43b20139f603"
      },
      "execution_count": null,
      "outputs": [
        {
          "output_type": "stream",
          "name": "stdout",
          "text": [
            "Cow says: Moo!\n",
            "Sheep says: Baa!\n",
            "Cow says: Moo!\n",
            "Sheep says: Baa!\n"
          ]
        }
      ]
    },
    {
      "cell_type": "markdown",
      "source": [
        " 17. Create a class Book with attributes title, author, and year_published. Add a method get_book_info() that\n",
        "returns a formatted string with the book's details.\n",
        "\n",
        "\n"
      ],
      "metadata": {
        "id": "noshnFIOIqrd"
      }
    },
    {
      "cell_type": "code",
      "source": [
        "class Book:\n",
        "    \"\"\"\n",
        "    A class representing a book with title, author, and year_published attributes.\n",
        "    \"\"\"\n",
        "    def __init__(self, title, author, year_published):\n",
        "        \"\"\"\n",
        "        Initializes a Book object.\n",
        "\n",
        "        Args:\n",
        "            title (str): The title of the book.\n",
        "            author (str): The author of the book.\n",
        "            year_published (int): The year the book was published.\n",
        "\n",
        "        Raises:\n",
        "            TypeError: If title or author is not a string, or year_published is not an integer.\n",
        "            ValueError: If year_published is negative.\n",
        "        \"\"\"\n",
        "        if not isinstance(title, str):\n",
        "            raise TypeError(\"Title must be a string.\")\n",
        "        if not isinstance(author, str):\n",
        "            raise TypeError(\"Author must be a string.\")\n",
        "        if not isinstance(year_published, int):\n",
        "            raise TypeError(\"Year published must be an integer.\")\n",
        "        if year_published < 0:\n",
        "            raise ValueError(\"Year published cannot be negative.\")\n",
        "        self.title = title\n",
        "        self.author = author\n",
        "        self.year_published = year_published\n",
        "\n",
        "    def get_book_info(self):\n",
        "        \"\"\"\n",
        "        Returns a formatted string with the book's details.\n",
        "\n",
        "        Returns:\n",
        "            str: A string containing the book's title, author, and year of publication.\n",
        "        \"\"\"\n",
        "        return f\"Title: {self.title}, Author: {self.author}, Year Published: {self.year_published}\"\n",
        "\n",
        "    def __str__(self):\n",
        "        \"\"\"\n",
        "        Returns a string representation of the Book object.\n",
        "        \"\"\"\n",
        "        return f\"Book(title='{self.title}', author='{self.author}', year_published={self.year_published})\"\n",
        "\n",
        "# Example Usage\n",
        "if __name__ == \"__main__\":\n",
        "    # Create a Book object\n",
        "    book1 = Book(\"The Lord of the Rings\", \"J.R.R. Tolkien\", 1954)\n",
        "\n",
        "    # Get and print the book information\n",
        "    book_info1 = book1.get_book_info()\n",
        "    print(book_info1)  # Output: Title: The Lord of the Rings, Author: J.R.R. Tolkien, Year Published: 1954\n",
        "\n",
        "    # Print the book object\n",
        "    print(book1)  # Output: Book(title='The Lord of the Rings', author='J.R.R. Tolkien', year_published=1954)\n",
        "\n",
        "    # Create another Book object\n",
        "    book2 = Book(\"Pride and Prejudice\", \"Jane Austen\", 1813)\n",
        "    book_info2 = book2.get_book_info()\n",
        "    print(book_info2)\n",
        "\n",
        "    # Test cases for invalid input\n",
        "    try:\n",
        "        book3 = Book(123, \"Author\", 2000)  # Invalid title type\n",
        "    except TypeError as e:\n",
        "        print(f\"Error: {e}\")\n",
        "\n",
        "    try:\n",
        "        book4 = Book(\"Title\", 456, 2000)  # Invalid author type\n",
        "    except TypeError as e:\n",
        "        print(f\"Error: {e}\")\n",
        "\n",
        "    try:\n",
        "        book5 = Book(\"Title\", \"Author\", \"2000\")  # Invalid year type\n",
        "    except TypeError as e:\n",
        "        print(f\"Error: {e}\")\n",
        "\n",
        "    try:\n",
        "        book6 = Book(\"Title\", \"Author\", -100)  # Invalid year value\n",
        "    except ValueError as e:\n",
        "        print(f\"Error: {e}\")\n"
      ],
      "metadata": {
        "colab": {
          "base_uri": "https://localhost:8080/"
        },
        "id": "-eovWhfQIp_-",
        "outputId": "de56bc4a-5c40-4cca-bfc4-7c04c2d575c2"
      },
      "execution_count": null,
      "outputs": [
        {
          "output_type": "stream",
          "name": "stdout",
          "text": [
            "Title: The Lord of the Rings, Author: J.R.R. Tolkien, Year Published: 1954\n",
            "Book(title='The Lord of the Rings', author='J.R.R. Tolkien', year_published=1954)\n",
            "Title: Pride and Prejudice, Author: Jane Austen, Year Published: 1813\n",
            "Error: Title must be a string.\n",
            "Error: Author must be a string.\n",
            "Error: Year published must be an integer.\n",
            "Error: Year published cannot be negative.\n"
          ]
        }
      ]
    },
    {
      "cell_type": "markdown",
      "source": [
        "18. Create a class House with attributes address and price. Create a derived class Mansion that adds an\n",
        "attribute number_of_rooms."
      ],
      "metadata": {
        "id": "h_q3lVM2I1ad"
      }
    },
    {
      "cell_type": "code",
      "source": [
        "class House:\n",
        "    \"\"\"\n",
        "    A class representing a house with address and price attributes.\n",
        "    \"\"\"\n",
        "    def __init__(self, address, price):\n",
        "        \"\"\"\n",
        "        Initializes a House object.\n",
        "\n",
        "        Args:\n",
        "            address (str): The address of the house.\n",
        "            price (float): The price of the house.\n",
        "\n",
        "        Raises:\n",
        "            TypeError: If address is not a string or price is not a number.\n",
        "            ValueError: If price is negative.\n",
        "        \"\"\"\n",
        "        if not isinstance(address, str):\n",
        "            raise TypeError(\"Address must be a string.\")\n",
        "        if not isinstance(price, (int, float)):\n",
        "            raise TypeError(\"Price must be a number.\")\n",
        "        if price < 0:\n",
        "            raise ValueError(\"Price cannot be negative.\")\n",
        "        self.address = address\n",
        "        self.price = price\n",
        "\n",
        "    def __str__(self):\n",
        "        \"\"\"\n",
        "        Returns a string representation of the House object.\n",
        "        \"\"\"\n",
        "        return f\"House(address='{self.address}', price={self.price})\"\n",
        "\n",
        "\n",
        "class Mansion(House):\n",
        "    \"\"\"\n",
        "    A derived class representing a mansion, which inherits from House and adds a number_of_rooms attribute.\n",
        "    \"\"\"\n",
        "    def __init__(self, address, price, number_of_rooms):\n",
        "        \"\"\"\n",
        "        Initializes a Mansion object.\n",
        "\n",
        "        Args:\n",
        "            address (str): The address of the mansion.\n",
        "            price (float): The price of the mansion.\n",
        "            number_of_rooms (int): The number of rooms in the mansion.\n",
        "\n",
        "        Raises:\n",
        "            TypeError: If number_of_rooms is not an integer.\n",
        "            ValueError: If number_of_rooms is not positive.\n",
        "        \"\"\"\n",
        "        super().__init__(address, price)  # Call the parent class's constructor\n",
        "        if not isinstance(number_of_rooms, int):\n",
        "            raise TypeError(\"Number of rooms must be an integer.\")\n",
        "        if number_of_rooms <= 0:\n",
        "            raise ValueError(\"Number of rooms must be positive.\")\n",
        "        self.number_of_rooms = number_of_rooms\n",
        "\n",
        "    def __str__(self):\n",
        "        \"\"\"\n",
        "        Returns a string representation of the Mansion object.\n",
        "        \"\"\"\n",
        "        return f\"Mansion(address='{self.address}', price={self.price}, number_of_rooms={self.number_of_rooms})\"\n",
        "\n",
        "# Example Usage\n",
        "if __name__ == \"__main__\":\n",
        "    # Create a House object\n",
        "    house1 = House(\"123 Main St\", 250000.00)\n",
        "    print(house1)\n",
        "\n",
        "    # Create a Mansion object\n",
        "    mansion1 = Mansion(\"456 Luxury Ln\", 1500000.00, 10)\n",
        "    print(mansion1)\n",
        "\n",
        "    # Test cases for invalid input\n",
        "    try:\n",
        "        house2 = House(123, 250000)  # Invalid address type\n",
        "    except TypeError as e:\n",
        "        print(f\"Error: {e}\")\n",
        "\n",
        "    try:\n",
        "        house3 = House(\"123 Main St\", -250000)  # Invalid price value\n",
        "    except ValueError as e:\n",
        "        print(f\"Error: {e}\")\n",
        "\n",
        "    try:\n",
        "        mansion2 = Mansion(\"456 Luxury Ln\", 1500000, 10.5)  # Invalid number_of_rooms type\n",
        "    except TypeError as e:\n",
        "        print(f\"Error: {e}\")\n",
        "\n",
        "    try:\n",
        "        mansion3 = Mansion(\"456 Luxury Ln\", 1500000, -10)  # Invalid number_of_rooms value\n",
        "    except ValueError as e:\n",
        "        print(f\"Error: {e}\")\n"
      ],
      "metadata": {
        "colab": {
          "base_uri": "https://localhost:8080/"
        },
        "id": "tlWypQsQI0vH",
        "outputId": "28931f0c-9e78-4b06-8cf1-67afafa715a5"
      },
      "execution_count": null,
      "outputs": [
        {
          "output_type": "stream",
          "name": "stdout",
          "text": [
            "House(address='123 Main St', price=250000.0)\n",
            "Mansion(address='456 Luxury Ln', price=1500000.0, number_of_rooms=10)\n",
            "Error: Address must be a string.\n",
            "Error: Price cannot be negative.\n",
            "Error: Number of rooms must be an integer.\n",
            "Error: Number of rooms must be positive.\n"
          ]
        }
      ]
    },
    {
      "cell_type": "code",
      "source": [],
      "metadata": {
        "id": "VL-mzb9fI7sH"
      },
      "execution_count": null,
      "outputs": []
    }
  ]
}